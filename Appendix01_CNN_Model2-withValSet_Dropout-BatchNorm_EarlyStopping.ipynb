{
 "cells": [
  {
   "cell_type": "markdown",
   "id": "ed83494c",
   "metadata": {},
   "source": [
    "# CNN Model with 20% Validation Step\n",
    "# CNN Model include Dropout, Batch Normalization, and Early Stopping"
   ]
  },
  {
   "cell_type": "code",
   "execution_count": 1,
   "id": "af1cdfb1",
   "metadata": {},
   "outputs": [],
   "source": [
    "from matplotlib import pyplot as plt\n",
    "import numpy as np\n",
    "import pandas as pd\n",
    "from sklearn.model_selection import train_test_split"
   ]
  },
  {
   "cell_type": "code",
   "execution_count": 2,
   "id": "57c0ffe8",
   "metadata": {},
   "outputs": [
    {
     "name": "stdout",
     "output_type": "stream",
     "text": [
      "(50000,)\n",
      "(50000, 1568)\n",
      "(10000, 1568)\n"
     ]
    }
   ],
   "source": [
    "train_X = pd.read_csv('train.csv')\n",
    "test_X = pd.read_csv('test.csv' )\n",
    "train_X.drop(train_X.columns[train_X.columns.str.contains('unnamed',case = False)],axis = 1, inplace = True)\n",
    "test_X.drop(test_X.columns[test_X.columns.str.contains('unnamed',case = False)],axis = 1, inplace = True)\n",
    "\n",
    "train_result = pd.read_csv('train_result.csv')\n",
    "train_y_class = train_result['Class']\n",
    "\n",
    "X_train = train_X.to_numpy()\n",
    "X_test = test_X.to_numpy()\n",
    "train_y = train_y_class.to_numpy()\n",
    "\n",
    "print(train_y.shape)\n",
    "print(X_train.shape)\n",
    "print(X_test.shape)"
   ]
  },
  {
   "cell_type": "code",
   "execution_count": 3,
   "id": "40661cde",
   "metadata": {},
   "outputs": [],
   "source": [
    "X_train, X_val, train_y, val_y = train_test_split(X_train, train_y,  test_size=0.20, random_state=101)"
   ]
  },
  {
   "cell_type": "code",
   "execution_count": 4,
   "id": "621912de",
   "metadata": {},
   "outputs": [
    {
     "name": "stdout",
     "output_type": "stream",
     "text": [
      "(40000, 1568)\n",
      "(10000, 1568)\n",
      "(40000,)\n",
      "(10000,)\n"
     ]
    }
   ],
   "source": [
    "print(X_train.shape)\n",
    "print(X_val.shape)\n",
    "print(train_y.shape)\n",
    "print(val_y.shape)"
   ]
  },
  {
   "cell_type": "code",
   "execution_count": 5,
   "id": "06f9efca",
   "metadata": {},
   "outputs": [],
   "source": [
    "from tensorflow.keras.utils import to_categorical\n",
    "c = len(np.unique(train_y))\n",
    "y_train = to_categorical(train_y,c)\n",
    "y_val = to_categorical(val_y,c)"
   ]
  },
  {
   "cell_type": "code",
   "execution_count": 6,
   "id": "e908b74a",
   "metadata": {},
   "outputs": [
    {
     "data": {
      "text/plain": [
       "array([[0., 0., 0., ..., 0., 0., 0.],\n",
       "       [0., 1., 0., ..., 0., 0., 0.],\n",
       "       [0., 0., 0., ..., 0., 0., 0.],\n",
       "       ...,\n",
       "       [0., 1., 0., ..., 0., 0., 0.],\n",
       "       [0., 0., 1., ..., 0., 0., 0.],\n",
       "       [0., 0., 0., ..., 0., 0., 0.]], dtype=float32)"
      ]
     },
     "execution_count": 6,
     "metadata": {},
     "output_type": "execute_result"
    }
   ],
   "source": [
    "#y_train\n",
    "y_val"
   ]
  },
  {
   "cell_type": "code",
   "execution_count": 7,
   "id": "b99ddc0c",
   "metadata": {},
   "outputs": [
    {
     "name": "stdout",
     "output_type": "stream",
     "text": [
      "(40000, 28, 56, 1)\n",
      "(10000, 28, 56, 1)\n",
      "(10000, 28, 56, 1)\n"
     ]
    }
   ],
   "source": [
    "X_train = X_train.reshape(40000, 28, 56, 1)\n",
    "X_val = X_val.reshape(10000, 28, 56, 1)\n",
    "X_test = X_test.reshape(10000, 28, 56, 1)\n",
    "print(X_train.shape)\n",
    "print(X_val.shape)\n",
    "print(X_test.shape)"
   ]
  },
  {
   "cell_type": "code",
   "execution_count": 8,
   "id": "f3b0fff4",
   "metadata": {},
   "outputs": [
    {
     "data": {
      "text/plain": [
       "<matplotlib.image.AxesImage at 0x182c5dc3130>"
      ]
     },
     "execution_count": 8,
     "metadata": {},
     "output_type": "execute_result"
    },
    {
     "data": {
      "image/png": "[encoded data removed]",
      "text/plain": [
       "<Figure size 432x288 with 1 Axes>"
      ]
     },
     "metadata": {
      "needs_background": "light"
     },
     "output_type": "display_data"
    }
   ],
   "source": [
    "single_image = X_train[0]\n",
    "plt.imshow(single_image)"
   ]
  },
  {
   "cell_type": "code",
   "execution_count": 11,
   "id": "1969245e",
   "metadata": {},
   "outputs": [],
   "source": [
    "from tensorflow.keras.models import Sequential\n",
    "from tensorflow.keras.layers import Dense, Conv2D, MaxPool2D, Flatten, Dropout, BatchNormalization"
   ]
  },
  {
   "cell_type": "code",
   "execution_count": 12,
   "id": "374cddb2",
   "metadata": {},
   "outputs": [],
   "source": [
    "model = Sequential()\n",
    "\n",
    "# CONVOLUTIONAL LAYER\n",
    "model.add(Conv2D(filters=32, kernel_size=(3,3),input_shape=(28, 56, 1), activation='relu',))\n",
    "#Batch Normaliation\n",
    "model.add(BatchNormalization())\n",
    "# POOLING LAYER\n",
    "#model.add(MaxPool2D(pool_size=(2, 2)))\n",
    "\n",
    "model.add(Conv2D(filters=64, kernel_size=(3,3),input_shape=(28, 56, 1), activation='relu',))\n",
    "#Batch Normaliation\n",
    "model.add(BatchNormalization())\n",
    "# POOLING LAYER\n",
    "model.add(MaxPool2D(pool_size=(2, 2)))\n",
    "#Dropout Layer\n",
    "model.add(Dropout(0.3))\n",
    "\n",
    "model.add(Conv2D(filters=128, kernel_size=(3,3),input_shape=(28, 56, 1), activation='relu',))\n",
    "#Batch Normaliation\n",
    "model.add(BatchNormalization())\n",
    "# POOLING LAYER\n",
    "model.add(MaxPool2D(pool_size=(2, 2)))\n",
    "#Dropout Layer\n",
    "model.add(Dropout(0.3))\n",
    "\n",
    "# FLATTEN IMAGES  BEFORE FINAL LAYER\n",
    "model.add(Flatten())\n",
    "\n",
    "# 128 NEURONS IN DENSE HIDDEN LAYER (YOU CAN CHANGE THIS NUMBER OF NEURONS)\n",
    "model.add(Dense(128, activation='relu'))\n",
    "#Batch Normaliation\n",
    "model.add(BatchNormalization())\n",
    "#Dropout Layer\n",
    "model.add(Dropout(0.3))\n",
    "\n",
    "model.add(Dense(64, activation='relu'))\n",
    "#Batch Normaliation\n",
    "model.add(BatchNormalization())\n",
    "#Dropout Layer\n",
    "model.add(Dropout(0.3))\n",
    "\n",
    "model.add(Dense(32, activation='relu'))\n",
    "#Batch Normaliation\n",
    "model.add(BatchNormalization())\n",
    "#Dropout Layer\n",
    "model.add(Dropout(0.3))\n",
    "\n",
    "# LAST LAYER IS THE CLASSIFIER, THUS 10 POSSIBLE CLASSES\n",
    "model.add(Dense(19, activation='softmax'))\n",
    "\n",
    "# https://keras.io/metrics/\n",
    "model.compile(loss='categorical_crossentropy',\n",
    "              optimizer='adam',\n",
    "              metrics=['accuracy']) # we can add in additional metrics https://keras.io/metrics/"
   ]
  },
  {
   "cell_type": "code",
   "execution_count": 13,
   "id": "1f078c3d",
   "metadata": {},
   "outputs": [
    {
     "name": "stdout",
     "output_type": "stream",
     "text": [
      "Model: \"sequential_1\"\n",
      "_________________________________________________________________\n",
      " Layer (type)                Output Shape              Param #   \n",
      "=================================================================\n",
      " conv2d_1 (Conv2D)           (None, 26, 54, 32)        320       \n",
      "                                                                 \n",
      " batch_normalization (BatchN  (None, 26, 54, 32)       128       \n",
      " ormalization)                                                   \n",
      "                                                                 \n",
      " conv2d_2 (Conv2D)           (None, 24, 52, 64)        18496     \n",
      "                                                                 \n",
      " batch_normalization_1 (Batc  (None, 24, 52, 64)       256       \n",
      " hNormalization)                                                 \n",
      "                                                                 \n",
      " max_pooling2d (MaxPooling2D  (None, 12, 26, 64)       0         \n",
      " )                                                               \n",
      "                                                                 \n",
      " dropout (Dropout)           (None, 12, 26, 64)        0         \n",
      "                                                                 \n",
      " conv2d_3 (Conv2D)           (None, 10, 24, 128)       73856     \n",
      "                                                                 \n",
      " batch_normalization_2 (Batc  (None, 10, 24, 128)      512       \n",
      " hNormalization)                                                 \n",
      "                                                                 \n",
      " max_pooling2d_1 (MaxPooling  (None, 5, 12, 128)       0         \n",
      " 2D)                                                             \n",
      "                                                                 \n",
      " dropout_1 (Dropout)         (None, 5, 12, 128)        0         \n",
      "                                                                 \n",
      " flatten (Flatten)           (None, 7680)              0         \n",
      "                                                                 \n",
      " dense (Dense)               (None, 128)               983168    \n",
      "                                                                 \n",
      " batch_normalization_3 (Batc  (None, 128)              512       \n",
      " hNormalization)                                                 \n",
      "                                                                 \n",
      " dropout_2 (Dropout)         (None, 128)               0         \n",
      "                                                                 \n",
      " dense_1 (Dense)             (None, 64)                8256      \n",
      "                                                                 \n",
      " batch_normalization_4 (Batc  (None, 64)               256       \n",
      " hNormalization)                                                 \n",
      "                                                                 \n",
      " dropout_3 (Dropout)         (None, 64)                0         \n",
      "                                                                 \n",
      " dense_2 (Dense)             (None, 32)                2080      \n",
      "                                                                 \n",
      " batch_normalization_5 (Batc  (None, 32)               128       \n",
      " hNormalization)                                                 \n",
      "                                                                 \n",
      " dropout_4 (Dropout)         (None, 32)                0         \n",
      "                                                                 \n",
      " dense_3 (Dense)             (None, 19)                627       \n",
      "                                                                 \n",
      "=================================================================\n",
      "Total params: 1,088,595\n",
      "Trainable params: 1,087,699\n",
      "Non-trainable params: 896\n",
      "_________________________________________________________________\n"
     ]
    }
   ],
   "source": [
    "model.summary()"
   ]
  },
  {
   "cell_type": "code",
   "execution_count": 14,
   "id": "5f72c031",
   "metadata": {},
   "outputs": [],
   "source": [
    "from tensorflow.keras.callbacks import EarlyStopping"
   ]
  },
  {
   "cell_type": "code",
   "execution_count": 15,
   "id": "d369fb9b",
   "metadata": {},
   "outputs": [],
   "source": [
    "early_stop = EarlyStopping(monitor='val_loss',patience=4)"
   ]
  },
  {
   "cell_type": "code",
   "execution_count": 16,
   "id": "f444ec1d",
   "metadata": {},
   "outputs": [
    {
     "name": "stdout",
     "output_type": "stream",
     "text": [
      "(40000, 28, 56, 1)\n",
      "(10000, 28, 56, 1)\n",
      "(40000, 19)\n",
      "(10000, 19)\n"
     ]
    }
   ],
   "source": [
    "print(X_train.shape)\n",
    "print(X_val.shape)\n",
    "print(y_train.shape)\n",
    "print(y_val.shape)"
   ]
  },
  {
   "cell_type": "code",
   "execution_count": 17,
   "id": "4997ebb7",
   "metadata": {},
   "outputs": [
    {
     "name": "stdout",
     "output_type": "stream",
     "text": [
      "Epoch 1/100\n",
      "1250/1250 [==============================] - 179s 141ms/step - loss: 2.3268 - accuracy: 0.2430 - val_loss: 1.4723 - val_accuracy: 0.5518\n",
      "Epoch 2/100\n",
      "1250/1250 [==============================] - 194s 155ms/step - loss: 1.5162 - accuracy: 0.4916 - val_loss: 0.6824 - val_accuracy: 0.8347\n",
      "Epoch 3/100\n",
      "1250/1250 [==============================] - 180s 144ms/step - loss: 1.0979 - accuracy: 0.6510 - val_loss: 0.3484 - val_accuracy: 0.9204\n",
      "Epoch 4/100\n",
      "1250/1250 [==============================] - 175s 140ms/step - loss: 0.8270 - accuracy: 0.7452 - val_loss: 0.2329 - val_accuracy: 0.9370\n",
      "Epoch 5/100\n",
      "1250/1250 [==============================] - 181s 144ms/step - loss: 0.6768 - accuracy: 0.7957 - val_loss: 0.1663 - val_accuracy: 0.9525\n",
      "Epoch 6/100\n",
      "1250/1250 [==============================] - 180s 144ms/step - loss: 0.5897 - accuracy: 0.8239 - val_loss: 0.1466 - val_accuracy: 0.9568\n",
      "Epoch 7/100\n",
      "1250/1250 [==============================] - 168s 134ms/step - loss: 0.5516 - accuracy: 0.8360 - val_loss: 0.1513 - val_accuracy: 0.9573\n",
      "Epoch 8/100\n",
      "1250/1250 [==============================] - 167s 134ms/step - loss: 0.4576 - accuracy: 0.8640 - val_loss: 0.1091 - val_accuracy: 0.9701\n",
      "Epoch 9/100\n",
      "1250/1250 [==============================] - 172s 138ms/step - loss: 0.4405 - accuracy: 0.8691 - val_loss: 0.1029 - val_accuracy: 0.9719\n",
      "Epoch 10/100\n",
      "1250/1250 [==============================] - 166s 132ms/step - loss: 0.3998 - accuracy: 0.8812 - val_loss: 0.0959 - val_accuracy: 0.9723\n",
      "Epoch 11/100\n",
      "1250/1250 [==============================] - 174s 139ms/step - loss: 0.3803 - accuracy: 0.8877 - val_loss: 0.0892 - val_accuracy: 0.9755\n",
      "Epoch 12/100\n",
      "1250/1250 [==============================] - 177s 142ms/step - loss: 0.3562 - accuracy: 0.8953 - val_loss: 0.0828 - val_accuracy: 0.9771\n",
      "Epoch 13/100\n",
      "1250/1250 [==============================] - 178s 142ms/step - loss: 0.3351 - accuracy: 0.9020 - val_loss: 0.0891 - val_accuracy: 0.9761\n",
      "Epoch 14/100\n",
      "1250/1250 [==============================] - 175s 140ms/step - loss: 0.3126 - accuracy: 0.9082 - val_loss: 0.1053 - val_accuracy: 0.9742\n",
      "Epoch 15/100\n",
      "1250/1250 [==============================] - 171s 137ms/step - loss: 0.3019 - accuracy: 0.9127 - val_loss: 0.0736 - val_accuracy: 0.9807\n",
      "Epoch 16/100\n",
      "1250/1250 [==============================] - 170s 136ms/step - loss: 0.2817 - accuracy: 0.9173 - val_loss: 0.0812 - val_accuracy: 0.9791\n",
      "Epoch 17/100\n",
      "1250/1250 [==============================] - 170s 136ms/step - loss: 0.2812 - accuracy: 0.9183 - val_loss: 0.0791 - val_accuracy: 0.9791\n",
      "Epoch 18/100\n",
      "1250/1250 [==============================] - 186s 149ms/step - loss: 0.2576 - accuracy: 0.9235 - val_loss: 0.0723 - val_accuracy: 0.9816\n",
      "Epoch 19/100\n",
      "1250/1250 [==============================] - 165s 132ms/step - loss: 0.2516 - accuracy: 0.9265 - val_loss: 0.0703 - val_accuracy: 0.9822\n",
      "Epoch 20/100\n",
      "1250/1250 [==============================] - 165s 132ms/step - loss: 0.2546 - accuracy: 0.9245 - val_loss: 0.0733 - val_accuracy: 0.9822\n",
      "Epoch 21/100\n",
      "1250/1250 [==============================] - 165s 132ms/step - loss: 0.2436 - accuracy: 0.9283 - val_loss: 0.0648 - val_accuracy: 0.9837\n",
      "Epoch 22/100\n",
      "1250/1250 [==============================] - 165s 132ms/step - loss: 0.2261 - accuracy: 0.9329 - val_loss: 0.0606 - val_accuracy: 0.9850\n",
      "Epoch 23/100\n",
      "1250/1250 [==============================] - 164s 131ms/step - loss: 0.2177 - accuracy: 0.9366 - val_loss: 0.0669 - val_accuracy: 0.9844\n",
      "Epoch 24/100\n",
      "1250/1250 [==============================] - 164s 131ms/step - loss: 0.2112 - accuracy: 0.9385 - val_loss: 0.0742 - val_accuracy: 0.9819\n",
      "Epoch 25/100\n",
      "1250/1250 [==============================] - 167s 134ms/step - loss: 0.2090 - accuracy: 0.9383 - val_loss: 0.0696 - val_accuracy: 0.9827\n",
      "Epoch 26/100\n",
      "1250/1250 [==============================] - 166s 132ms/step - loss: 0.1963 - accuracy: 0.9422 - val_loss: 0.0678 - val_accuracy: 0.9837\n"
     ]
    },
    {
     "data": {
      "text/plain": [
       "<keras.callbacks.History at 0x182c567f460>"
      ]
     },
     "execution_count": 17,
     "metadata": {},
     "output_type": "execute_result"
    }
   ],
   "source": [
    "epochs=100\n",
    "model.fit(X_train,y_train,epochs=epochs,validation_data=(X_val, y_val),callbacks=[early_stop])"
   ]
  },
  {
   "cell_type": "code",
   "execution_count": 18,
   "id": "a1374685",
   "metadata": {},
   "outputs": [
    {
     "data": {
      "text/plain": [
       "['loss', 'accuracy']"
      ]
     },
     "execution_count": 18,
     "metadata": {},
     "output_type": "execute_result"
    }
   ],
   "source": [
    "model.metrics_names"
   ]
  },
  {
   "cell_type": "code",
   "execution_count": 19,
   "id": "99d0357f",
   "metadata": {},
   "outputs": [],
   "source": [
    "losses = pd.DataFrame(model.history.history)"
   ]
  },
  {
   "cell_type": "code",
   "execution_count": 20,
   "id": "426e8123",
   "metadata": {},
   "outputs": [
    {
     "data": {
      "text/html": [
       "<div>\n",
       "<style scoped>\n",
       "    .dataframe tbody tr th:only-of-type {\n",
       "        vertical-align: middle;\n",
       "    }\n",
       "\n",
       "    .dataframe tbody tr th {\n",
       "        vertical-align: top;\n",
       "    }\n",
       "\n",
       "    .dataframe thead th {\n",
       "        text-align: right;\n",
       "    }\n",
       "</style>\n",
       "<table border=\"1\" class=\"dataframe\">\n",
       "  <thead>\n",
       "    <tr style=\"text-align: right;\">\n",
       "      <th></th>\n",
       "      <th>loss</th>\n",
       "      <th>accuracy</th>\n",
       "      <th>val_loss</th>\n",
       "      <th>val_accuracy</th>\n",
       "    </tr>\n",
       "  </thead>\n",
       "  <tbody>\n",
       "    <tr>\n",
       "      <th>0</th>\n",
       "      <td>2.326829</td>\n",
       "      <td>0.242950</td>\n",
       "      <td>1.472335</td>\n",
       "      <td>0.5518</td>\n",
       "    </tr>\n",
       "    <tr>\n",
       "      <th>1</th>\n",
       "      <td>1.516243</td>\n",
       "      <td>0.491650</td>\n",
       "      <td>0.682405</td>\n",
       "      <td>0.8347</td>\n",
       "    </tr>\n",
       "    <tr>\n",
       "      <th>2</th>\n",
       "      <td>1.097885</td>\n",
       "      <td>0.651050</td>\n",
       "      <td>0.348428</td>\n",
       "      <td>0.9204</td>\n",
       "    </tr>\n",
       "    <tr>\n",
       "      <th>3</th>\n",
       "      <td>0.827026</td>\n",
       "      <td>0.745175</td>\n",
       "      <td>0.232880</td>\n",
       "      <td>0.9370</td>\n",
       "    </tr>\n",
       "    <tr>\n",
       "      <th>4</th>\n",
       "      <td>0.676754</td>\n",
       "      <td>0.795650</td>\n",
       "      <td>0.166279</td>\n",
       "      <td>0.9525</td>\n",
       "    </tr>\n",
       "  </tbody>\n",
       "</table>\n",
       "</div>"
      ],
      "text/plain": [
       "       loss  accuracy  val_loss  val_accuracy\n",
       "0  2.326829  0.242950  1.472335        0.5518\n",
       "1  1.516243  0.491650  0.682405        0.8347\n",
       "2  1.097885  0.651050  0.348428        0.9204\n",
       "3  0.827026  0.745175  0.232880        0.9370\n",
       "4  0.676754  0.795650  0.166279        0.9525"
      ]
     },
     "execution_count": 20,
     "metadata": {},
     "output_type": "execute_result"
    }
   ],
   "source": [
    "losses.head()"
   ]
  },
  {
   "cell_type": "code",
   "execution_count": 21,
   "id": "958b23fb",
   "metadata": {},
   "outputs": [
    {
     "data": {
      "text/plain": [
       "<AxesSubplot:>"
      ]
     },
     "execution_count": 21,
     "metadata": {},
     "output_type": "execute_result"
    },
    {
     "data": {
      "image/png": "[encoded data removed]",
      "text/plain": [
       "<Figure size 432x288 with 1 Axes>"
      ]
     },
     "metadata": {
      "needs_background": "light"
     },
     "output_type": "display_data"
    }
   ],
   "source": [
    "losses[['accuracy','val_accuracy']].plot()"
   ]
  },
  {
   "cell_type": "code",
   "execution_count": 22,
   "id": "8cb022d6",
   "metadata": {},
   "outputs": [
    {
     "data": {
      "text/plain": [
       "<AxesSubplot:>"
      ]
     },
     "execution_count": 22,
     "metadata": {},
     "output_type": "execute_result"
    },
    {
     "data": {
      "image/png": "[encoded data removed]",
      "text/plain": [
       "<Figure size 432x288 with 1 Axes>"
      ]
     },
     "metadata": {
      "needs_background": "light"
     },
     "output_type": "display_data"
    }
   ],
   "source": [
    "losses[['loss','val_loss']].plot()"
   ]
  },
  {
   "cell_type": "code",
   "execution_count": 23,
   "id": "4e312f30",
   "metadata": {},
   "outputs": [
    {
     "data": {
      "text/plain": [
       "<AxesSubplot:>"
      ]
     },
     "execution_count": 23,
     "metadata": {},
     "output_type": "execute_result"
    },
    {
     "data": {
      "image/png": "[encoded data removed]",
      "text/plain": [
       "<Figure size 432x288 with 1 Axes>"
      ]
     },
     "metadata": {
      "needs_background": "light"
     },
     "output_type": "display_data"
    }
   ],
   "source": [
    "model_loss = pd.DataFrame(model.history.history)\n",
    "model_loss.plot()"
   ]
  },
  {
   "cell_type": "code",
   "execution_count": 24,
   "id": "cae480ff",
   "metadata": {},
   "outputs": [
    {
     "name": "stdout",
     "output_type": "stream",
     "text": [
      "['loss', 'accuracy']\n",
      "[0.0678277388215065, 0.9836999773979187]\n"
     ]
    }
   ],
   "source": [
    "print(model.metrics_names)\n",
    "print(model.evaluate(X_val,y_val,verbose=0))"
   ]
  },
  {
   "cell_type": "code",
   "execution_count": 25,
   "id": "5192bdfc",
   "metadata": {},
   "outputs": [],
   "source": [
    "from sklearn.metrics import classification_report,confusion_matrix"
   ]
  },
  {
   "cell_type": "code",
   "execution_count": 26,
   "id": "de5f340f",
   "metadata": {},
   "outputs": [
    {
     "name": "stdout",
     "output_type": "stream",
     "text": [
      "313/313 [==============================] - 9s 27ms/step\n"
     ]
    },
    {
     "data": {
      "text/plain": [
       "array([ 6,  1, 15, ...,  1,  2,  3], dtype=int64)"
      ]
     },
     "execution_count": 26,
     "metadata": {},
     "output_type": "execute_result"
    }
   ],
   "source": [
    "predictions = np.argmax(model.predict(X_val),axis=1)\n",
    "predictions"
   ]
  },
  {
   "cell_type": "code",
   "execution_count": 27,
   "id": "ade6af28",
   "metadata": {},
   "outputs": [
    {
     "name": "stdout",
     "output_type": "stream",
     "text": [
      "              precision    recall  f1-score   support\n",
      "\n",
      "           0       0.99      0.99      0.99       102\n",
      "           1       0.99      1.00      0.99       202\n",
      "           2       0.99      0.99      0.99       343\n",
      "           3       0.98      0.99      0.99       439\n",
      "           4       0.98      0.99      0.99       537\n",
      "           5       0.98      0.98      0.98       597\n",
      "           6       0.97      0.99      0.98       692\n",
      "           7       0.98      0.99      0.99       817\n",
      "           8       0.98      0.98      0.98       917\n",
      "           9       0.99      0.98      0.99       987\n",
      "          10       0.99      0.98      0.98       938\n",
      "          11       0.99      0.98      0.98       762\n",
      "          12       0.99      0.98      0.99       706\n",
      "          13       0.98      0.98      0.98       578\n",
      "          14       0.98      0.99      0.99       459\n",
      "          15       0.98      0.99      0.98       367\n",
      "          16       0.97      0.98      0.97       292\n",
      "          17       0.99      0.96      0.98       190\n",
      "          18       0.96      0.92      0.94        75\n",
      "\n",
      "    accuracy                           0.98     10000\n",
      "   macro avg       0.98      0.98      0.98     10000\n",
      "weighted avg       0.98      0.98      0.98     10000\n",
      "\n"
     ]
    }
   ],
   "source": [
    "print(classification_report(val_y,predictions))"
   ]
  },
  {
   "cell_type": "code",
   "execution_count": 28,
   "id": "bdf6f774",
   "metadata": {},
   "outputs": [
    {
     "data": {
      "text/plain": [
       "array([[101,   0,   0,   0,   0,   0,   1,   0,   0,   0,   0,   0,   0,\n",
       "          0,   0,   0,   0,   0,   0],\n",
       "       [  0, 201,   0,   0,   1,   0,   0,   0,   0,   0,   0,   0,   0,\n",
       "          0,   0,   0,   0,   0,   0],\n",
       "       [  0,   1, 338,   3,   1,   0,   0,   0,   0,   0,   0,   0,   0,\n",
       "          0,   0,   0,   0,   0,   0],\n",
       "       [  0,   0,   1, 436,   0,   1,   0,   0,   1,   0,   0,   0,   0,\n",
       "          0,   0,   0,   0,   0,   0],\n",
       "       [  0,   0,   0,   1, 534,   1,   0,   0,   0,   1,   0,   0,   0,\n",
       "          0,   0,   0,   0,   0,   0],\n",
       "       [  0,   0,   0,   0,   1, 588,   4,   1,   1,   0,   1,   0,   0,\n",
       "          0,   1,   0,   0,   0,   0],\n",
       "       [  0,   0,   0,   0,   0,   1, 686,   1,   1,   0,   1,   2,   0,\n",
       "          0,   0,   0,   0,   0,   0],\n",
       "       [  0,   1,   1,   0,   0,   2,   1, 810,   1,   0,   0,   0,   1,\n",
       "          0,   0,   0,   0,   0,   0],\n",
       "       [  1,   0,   1,   1,   1,   0,   5,   2, 898,   2,   2,   0,   0,\n",
       "          2,   2,   0,   0,   0,   0],\n",
       "       [  0,   1,   0,   1,   5,   0,   1,   3,   1, 969,   0,   1,   1,\n",
       "          0,   2,   2,   0,   0,   0],\n",
       "       [  0,   0,   0,   1,   2,   5,   2,   2,   3,   1, 917,   0,   1,\n",
       "          1,   0,   2,   1,   0,   0],\n",
       "       [  0,   0,   0,   0,   0,   1,   4,   0,   1,   3,   1, 743,   1,\n",
       "          1,   0,   0,   7,   0,   0],\n",
       "       [  0,   0,   0,   0,   0,   1,   0,   4,   0,   1,   3,   2, 694,\n",
       "          0,   1,   0,   0,   0,   0],\n",
       "       [  0,   0,   0,   0,   0,   1,   0,   1,   6,   1,   1,   0,   0,\n",
       "        568,   0,   0,   0,   0,   0],\n",
       "       [  0,   0,   0,   0,   0,   0,   0,   0,   0,   1,   0,   1,   2,\n",
       "          0, 454,   1,   0,   0,   0],\n",
       "       [  0,   0,   0,   0,   0,   0,   0,   0,   0,   0,   0,   1,   0,\n",
       "          2,   1, 362,   0,   1,   0],\n",
       "       [  0,   0,   0,   0,   0,   0,   0,   0,   0,   0,   1,   1,   0,\n",
       "          0,   1,   1, 286,   1,   1],\n",
       "       [  0,   0,   0,   0,   0,   0,   0,   0,   1,   0,   0,   0,   1,\n",
       "          1,   0,   2,   0, 183,   2],\n",
       "       [  0,   0,   0,   0,   0,   0,   0,   0,   0,   1,   0,   0,   0,\n",
       "          4,   0,   0,   1,   0,  69]], dtype=int64)"
      ]
     },
     "execution_count": 28,
     "metadata": {},
     "output_type": "execute_result"
    }
   ],
   "source": [
    "confusion_matrix = confusion_matrix(val_y,predictions)\n",
    "confusion_matrix"
   ]
  },
  {
   "cell_type": "code",
   "execution_count": 29,
   "id": "8ceea170",
   "metadata": {},
   "outputs": [
    {
     "name": "stdout",
     "output_type": "stream",
     "text": [
      "sum_preds               : 10000\n",
      "sum_correct_predictions : 9837\n",
      "sum_wrong_predictions   : 163\n",
      "misclassification_error : 0.01629999999999998\n"
     ]
    }
   ],
   "source": [
    "#misclassification_error(confusion_matrix):\n",
    "sum_preds = np.sum(confusion_matrix)\n",
    "sum_correct = np.sum(np.diag(confusion_matrix))\n",
    "misclassification_error = 1.0 - (float(sum_correct) / float(sum_preds))\n",
    "    \n",
    "print(\"sum_preds               :\", int(sum_preds)) \n",
    "print(\"sum_correct_predictions :\", int(sum_correct)) \n",
    "print(\"sum_wrong_predictions   :\", int(sum_preds - sum_correct))\n",
    "print(\"misclassification_error :\", misclassification_error)"
   ]
  },
  {
   "cell_type": "code",
   "execution_count": 30,
   "id": "b7bb4f94",
   "metadata": {},
   "outputs": [
    {
     "data": {
      "text/plain": [
       "<matplotlib.image.AxesImage at 0x182c537ea90>"
      ]
     },
     "execution_count": 30,
     "metadata": {},
     "output_type": "execute_result"
    },
    {
     "data": {
      "image/png": "[encoded data removed]",
      "text/plain": [
       "<Figure size 432x288 with 1 Axes>"
      ]
     },
     "metadata": {
      "needs_background": "light"
     },
     "output_type": "display_data"
    }
   ],
   "source": [
    "my_number = X_val[999]\n",
    "plt.imshow(my_number)"
   ]
  },
  {
   "cell_type": "code",
   "execution_count": 31,
   "id": "494530f7",
   "metadata": {},
   "outputs": [
    {
     "name": "stdout",
     "output_type": "stream",
     "text": [
      "1/1 [==============================] - 0s 24ms/step\n",
      "[11]\n"
     ]
    }
   ],
   "source": [
    "# SHAPE --> (num_images,width,height,color_channels)\n",
    "#model.predict_classes(my_number.reshape(1,28,56,1))\n",
    "\n",
    "predict_x=model.predict(my_number.reshape(1,28,56,1)) \n",
    "classes_x=np.argmax(predict_x,axis=1)\n",
    "print(classes_x)"
   ]
  },
  {
   "cell_type": "code",
   "execution_count": 32,
   "id": "e091eb5c",
   "metadata": {},
   "outputs": [
    {
     "name": "stdout",
     "output_type": "stream",
     "text": [
      "\n",
      "\n",
      "Test Predictions\n",
      "313/313 [==============================] - 8s 27ms/step\n",
      "[14  7 10 ... 10  4  6]\n",
      "10000\n",
      "<class 'numpy.ndarray'>\n"
     ]
    },
    {
     "data": {
      "text/html": [
       "<div>\n",
       "<style scoped>\n",
       "    .dataframe tbody tr th:only-of-type {\n",
       "        vertical-align: middle;\n",
       "    }\n",
       "\n",
       "    .dataframe tbody tr th {\n",
       "        vertical-align: top;\n",
       "    }\n",
       "\n",
       "    .dataframe thead th {\n",
       "        text-align: right;\n",
       "    }\n",
       "</style>\n",
       "<table border=\"1\" class=\"dataframe\">\n",
       "  <thead>\n",
       "    <tr style=\"text-align: right;\">\n",
       "      <th></th>\n",
       "      <th>Class</th>\n",
       "    </tr>\n",
       "    <tr>\n",
       "      <th>Index</th>\n",
       "      <th></th>\n",
       "    </tr>\n",
       "  </thead>\n",
       "  <tbody>\n",
       "    <tr>\n",
       "      <th>0</th>\n",
       "      <td>14</td>\n",
       "    </tr>\n",
       "    <tr>\n",
       "      <th>1</th>\n",
       "      <td>7</td>\n",
       "    </tr>\n",
       "    <tr>\n",
       "      <th>2</th>\n",
       "      <td>10</td>\n",
       "    </tr>\n",
       "    <tr>\n",
       "      <th>3</th>\n",
       "      <td>7</td>\n",
       "    </tr>\n",
       "    <tr>\n",
       "      <th>4</th>\n",
       "      <td>5</td>\n",
       "    </tr>\n",
       "    <tr>\n",
       "      <th>...</th>\n",
       "      <td>...</td>\n",
       "    </tr>\n",
       "    <tr>\n",
       "      <th>9995</th>\n",
       "      <td>7</td>\n",
       "    </tr>\n",
       "    <tr>\n",
       "      <th>9996</th>\n",
       "      <td>12</td>\n",
       "    </tr>\n",
       "    <tr>\n",
       "      <th>9997</th>\n",
       "      <td>10</td>\n",
       "    </tr>\n",
       "    <tr>\n",
       "      <th>9998</th>\n",
       "      <td>4</td>\n",
       "    </tr>\n",
       "    <tr>\n",
       "      <th>9999</th>\n",
       "      <td>6</td>\n",
       "    </tr>\n",
       "  </tbody>\n",
       "</table>\n",
       "<p>10000 rows × 1 columns</p>\n",
       "</div>"
      ],
      "text/plain": [
       "       Class\n",
       "Index       \n",
       "0         14\n",
       "1          7\n",
       "2         10\n",
       "3          7\n",
       "4          5\n",
       "...      ...\n",
       "9995       7\n",
       "9996      12\n",
       "9997      10\n",
       "9998       4\n",
       "9999       6\n",
       "\n",
       "[10000 rows x 1 columns]"
      ]
     },
     "execution_count": 32,
     "metadata": {},
     "output_type": "execute_result"
    }
   ],
   "source": [
    "print('\\n')\n",
    "print(\"Test Predictions\")\n",
    "test_predictions =  np.argmax(model.predict(X_test),axis=1)\n",
    "print(test_predictions)\n",
    "print(len(test_predictions))\n",
    "print(type(test_predictions))\n",
    "df = pd.DataFrame(test_predictions)\n",
    "df.index.name= 'Index'\n",
    "df.columns = ['Class']\n",
    "file_name = f'test_predictions_cnn_model4-Dropout-batchnorm.csv'\n",
    "df.to_csv(file_name, index=True)\n",
    "df"
   ]
  },
  {
   "cell_type": "code",
   "execution_count": null,
   "id": "a8247b8e",
   "metadata": {},
   "outputs": [],
   "source": []
  }
 ],
 "metadata": {
  "kernelspec": {
   "display_name": "Python 3 (ipykernel)",
   "language": "python",
   "name": "python3"
  },
  "language_info": {
   "codemirror_mode": {
    "name": "ipython",
    "version": 3
   },
   "file_extension": ".py",
   "mimetype": "text/x-python",
   "name": "python",
   "nbconvert_exporter": "python",
   "pygments_lexer": "ipython3",
   "version": "3.9.12"
  }
 },
 "nbformat": 4,
 "nbformat_minor": 5
}
