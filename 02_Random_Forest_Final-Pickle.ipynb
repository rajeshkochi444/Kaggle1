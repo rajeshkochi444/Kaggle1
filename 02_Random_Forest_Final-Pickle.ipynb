{
 "cells": [
  {
   "cell_type": "code",
   "execution_count": 1,
   "id": "6f1dd7a2",
   "metadata": {},
   "outputs": [],
   "source": [
    "from matplotlib import pyplot as plt\n",
    "import numpy as np\n",
    "import pandas as pd\n",
    "import tensorflow as tf\n",
    "tf.config.run_functions_eagerly(True)\n",
    "from sklearn.model_selection import train_test_split\n",
    "from sklearn.metrics import classification_report,confusion_matrix, accuracy_score\n",
    "import joblib\n",
    "from sklearn.ensemble import RandomForestClassifier"
   ]
  },
  {
   "cell_type": "code",
   "execution_count": 2,
   "id": "130f0786",
   "metadata": {},
   "outputs": [],
   "source": [
    "def data_load():\n",
    "    train_X = pd.read_csv('train.csv')\n",
    "    test_X = pd.read_csv('test.csv' )\n",
    "    train_X.drop(train_X.columns[train_X.columns.str.contains('unnamed',case = False)],axis = 1, inplace = True)\n",
    "    test_X.drop(test_X.columns[test_X.columns.str.contains('unnamed',case = False)],axis = 1, inplace = True)\n",
    "\n",
    "    train_result = pd.read_csv('train_result.csv')\n",
    "    train_y_class = train_result['Class']\n",
    "\n",
    "    X_train = train_X.to_numpy()\n",
    "    X_test = test_X.to_numpy()\n",
    "    train_y = train_y_class.to_numpy()\n",
    "\n",
    "\n",
    "    return X_train, X_test, train_y"
   ]
  },
  {
   "cell_type": "code",
   "execution_count": 3,
   "id": "97877506",
   "metadata": {},
   "outputs": [
    {
     "name": "stdout",
     "output_type": "stream",
     "text": [
      "(50000,)\n",
      "(50000, 1568)\n",
      "(10000, 1568)\n"
     ]
    }
   ],
   "source": [
    "X_train, X_test, train_y = data_load()\n",
    "print(train_y.shape)\n",
    "print(X_train.shape)\n",
    "print(X_test.shape)"
   ]
  },
  {
   "cell_type": "code",
   "execution_count": 4,
   "id": "ff85d31d",
   "metadata": {},
   "outputs": [
    {
     "name": "stdout",
     "output_type": "stream",
     "text": [
      "(40000, 1568)\n",
      "(10000, 1568)\n",
      "(40000,)\n",
      "(10000,)\n"
     ]
    }
   ],
   "source": [
    "X_train, X_val, train_y, val_y = train_test_split(X_train, train_y,  test_size=0.20, random_state=101)\n",
    "print(X_train.shape)\n",
    "print(X_val.shape)\n",
    "print(train_y.shape)\n",
    "print(val_y.shape)"
   ]
  },
  {
   "cell_type": "code",
   "execution_count": 5,
   "id": "9881091c",
   "metadata": {},
   "outputs": [],
   "source": [
    "def model_predictions(X, y, predictions):\n",
    "    '''\n",
    "    X  = Train or Valdation set\n",
    "    y  = target values of train or validation set\n",
    "    '''\n",
    "    #predictions = rf_model.predict(X)\n",
    "    cf_matrix = confusion_matrix(y,predictions)\n",
    "    #print(cf_matrix)\n",
    "\n",
    "    sum_preds = np.sum(cf_matrix)\n",
    "    sum_correct = np.sum(np.diag(cf_matrix))\n",
    "    misclassification_error = 1.0 - (float(sum_correct) / float(sum_preds))\n",
    "    \n",
    "    print(\"sum_preds               :\", int(sum_preds)) \n",
    "    print(\"sum_correct_predictions :\", int(sum_correct)) \n",
    "    print(\"sum_wrong_predictions   :\", int(sum_preds - sum_correct))\n",
    "    print(\"misclassification_error :\", misclassification_error)\n",
    "    print(\"Accuarcy                :\", accuracy_score(y,predictions))\n",
    "\n",
    "    # class-wise accuracy\n",
    "    class_report = classification_report(y,predictions)\n",
    "    print(class_report)\n",
    "    return None"
   ]
  },
  {
   "cell_type": "code",
   "execution_count": 7,
   "id": "9d141c5b",
   "metadata": {},
   "outputs": [
    {
     "data": {
      "text/plain": [
       "RandomForestClassifier()"
      ]
     },
     "execution_count": 7,
     "metadata": {},
     "output_type": "execute_result"
    }
   ],
   "source": [
    "rf_model = RandomForestClassifier(n_estimators=100)\n",
    "rf_model.fit(X_train, train_y)"
   ]
  },
  {
   "cell_type": "code",
   "execution_count": 8,
   "id": "5c88154a",
   "metadata": {},
   "outputs": [
    {
     "name": "stdout",
     "output_type": "stream",
     "text": [
      "sum_preds               : 40000\n",
      "sum_correct_predictions : 40000\n",
      "sum_wrong_predictions   : 0\n",
      "misclassification_error : 0.0\n",
      "Accuarcy                : 1.0\n",
      "              precision    recall  f1-score   support\n",
      "\n",
      "           0       1.00      1.00      1.00       420\n",
      "           1       1.00      1.00      1.00       871\n",
      "           2       1.00      1.00      1.00      1254\n",
      "           3       1.00      1.00      1.00      1713\n",
      "           4       1.00      1.00      1.00      2067\n",
      "           5       1.00      1.00      1.00      2393\n",
      "           6       1.00      1.00      1.00      2751\n",
      "           7       1.00      1.00      1.00      3195\n",
      "           8       1.00      1.00      1.00      3684\n",
      "           9       1.00      1.00      1.00      3820\n",
      "          10       1.00      1.00      1.00      3669\n",
      "          11       1.00      1.00      1.00      3116\n",
      "          12       1.00      1.00      1.00      2748\n",
      "          13       1.00      1.00      1.00      2359\n",
      "          14       1.00      1.00      1.00      1939\n",
      "          15       1.00      1.00      1.00      1618\n",
      "          16       1.00      1.00      1.00      1266\n",
      "          17       1.00      1.00      1.00       750\n",
      "          18       1.00      1.00      1.00       367\n",
      "\n",
      "    accuracy                           1.00     40000\n",
      "   macro avg       1.00      1.00      1.00     40000\n",
      "weighted avg       1.00      1.00      1.00     40000\n",
      "\n"
     ]
    }
   ],
   "source": [
    "predictions = rf_model.predict(X_train)\n",
    "model_predictions(X_train, train_y, predictions)"
   ]
  },
  {
   "cell_type": "code",
   "execution_count": 9,
   "id": "c01dd372",
   "metadata": {},
   "outputs": [
    {
     "name": "stdout",
     "output_type": "stream",
     "text": [
      "sum_preds               : 10000\n",
      "sum_correct_predictions : 7129\n",
      "sum_wrong_predictions   : 2871\n",
      "misclassification_error : 0.2871\n",
      "Accuarcy                : 0.7129\n",
      "              precision    recall  f1-score   support\n",
      "\n",
      "           0       0.89      0.86      0.88       102\n",
      "           1       0.85      0.92      0.88       202\n",
      "           2       0.90      0.88      0.89       343\n",
      "           3       0.84      0.81      0.82       439\n",
      "           4       0.81      0.80      0.80       537\n",
      "           5       0.74      0.73      0.73       597\n",
      "           6       0.73      0.73      0.73       692\n",
      "           7       0.76      0.72      0.74       817\n",
      "           8       0.68      0.77      0.72       917\n",
      "           9       0.65      0.74      0.69       987\n",
      "          10       0.66      0.70      0.68       938\n",
      "          11       0.61      0.64      0.63       762\n",
      "          12       0.62      0.70      0.65       706\n",
      "          13       0.68      0.66      0.67       578\n",
      "          14       0.81      0.56      0.66       459\n",
      "          15       0.76      0.59      0.67       367\n",
      "          16       0.73      0.65      0.69       292\n",
      "          17       0.86      0.40      0.55       190\n",
      "          18       0.90      0.51      0.65        75\n",
      "\n",
      "    accuracy                           0.71     10000\n",
      "   macro avg       0.76      0.70      0.72     10000\n",
      "weighted avg       0.72      0.71      0.71     10000\n",
      "\n"
     ]
    }
   ],
   "source": [
    "val_predictions = rf_model.predict(X_val)\n",
    "model_predictions(X_val, val_y, val_predictions)"
   ]
  },
  {
   "cell_type": "markdown",
   "id": "67536df1",
   "metadata": {},
   "source": [
    "# Randomized Search for Hyper Parameters"
   ]
  },
  {
   "cell_type": "code",
   "execution_count": 10,
   "id": "4f2f2fbb",
   "metadata": {},
   "outputs": [],
   "source": [
    "from sklearn.model_selection import RandomizedSearchCV\n",
    "\n",
    "# Number of trees in random forest\n",
    "#n_estimators \n",
    "n_estimators = [100, 200, 300, 400, 500, 600, 700, 800, 900, 1000]\n",
    "# Number of features to consider at every split\n",
    "max_features = ['auto', 'sqrt']\n",
    "\n",
    "# Maximum number of levels in tree\n",
    "max_depth = [10, 20, 30, 40, 50, 60,70, 80,  90, 100, 120, 150, 200]\n",
    "max_depth.append(None)\n",
    "\n",
    "# Minimum number of samples required to split a node\n",
    "min_samples_split = [  2, 5, 10, 20, 30]\n",
    "\n",
    "# Minimum number of samples required at each leaf node\n",
    "min_samples_leaf = [1, 2, 4, 10, 20, 30]\n",
    "\n",
    "# Method of selecting samples for training each tree\n",
    "bootstrap = [True, False]\n",
    "\n",
    "# Criterion\n",
    "criterion=['gini', 'entropy']\n",
    "\n",
    "# Create the random grid\n",
    "random_grid = {'n_estimators': n_estimators,\n",
    "               'max_features': max_features,\n",
    "               'max_depth': max_depth,\n",
    "               'min_samples_split': min_samples_split,\n",
    "               'min_samples_leaf': min_samples_leaf,\n",
    "               'bootstrap': bootstrap,\n",
    "               'criterion': criterion}\n"
   ]
  },
  {
   "cell_type": "markdown",
   "id": "05028743",
   "metadata": {},
   "source": [
    "# Due to memory issues with my laptop, I have performed Randomized grid search for parameters at a HPC cluster where I have access. The best param was loaded as a pickle file."
   ]
  },
  {
   "cell_type": "code",
   "execution_count": 11,
   "id": "1b1f360c",
   "metadata": {},
   "outputs": [
    {
     "data": {
      "text/plain": [
       "'\\n# Use the random grid to search for best hyperparameters\\n# First create the base model to tune\\n\\nrf_model = RandomForestClassifier()\\n\\n# Random search of parameters, using 3 fold cross validation, \\n# search across 100 different combinations, and use all available cores\\nrf_random = RandomizedSearchCV(estimator = rf_model, param_distributions = random_grid, n_iter = 100, cv = 3, verbose=2, random_state=42, n_jobs = -1)\\n# Fit the random search model\\nrf_random.fit(X_train, train_y)\\n'"
      ]
     },
     "execution_count": 11,
     "metadata": {},
     "output_type": "execute_result"
    }
   ],
   "source": [
    "'''\n",
    "# Use the random grid to search for best hyperparameters\n",
    "# First create the base model to tune\n",
    "\n",
    "rf_model = RandomForestClassifier()\n",
    "\n",
    "# Random search of parameters, using 3 fold cross validation, \n",
    "# search across 100 different combinations, and use all available cores\n",
    "rf_random = RandomizedSearchCV(estimator = rf_model, param_distributions = random_grid, n_iter = 100, cv = 3, verbose=2, random_state=42, n_jobs = -1)\n",
    "# Fit the random search model\n",
    "rf_random.fit(X_train, train_y)\n",
    "'''"
   ]
  },
  {
   "cell_type": "code",
   "execution_count": 12,
   "id": "94a36cd1",
   "metadata": {},
   "outputs": [
    {
     "data": {
      "text/plain": [
       "{'n_estimators': 800,\n",
       " 'min_samples_split': 10,\n",
       " 'min_samples_leaf': 1,\n",
       " 'max_features': 'sqrt',\n",
       " 'max_depth': 70,\n",
       " 'criterion': 'entropy',\n",
       " 'bootstrap': False}"
      ]
     },
     "execution_count": 12,
     "metadata": {},
     "output_type": "execute_result"
    }
   ],
   "source": [
    "rf_best_params_saved_pickle = joblib.load(\"rf_random_best_params.pkl\")\n",
    "rf_best_params_saved_pickle"
   ]
  },
  {
   "cell_type": "code",
   "execution_count": 13,
   "id": "cd86911b",
   "metadata": {},
   "outputs": [
    {
     "data": {
      "text/plain": [
       "RandomForestClassifier(bootstrap=False, criterion='entropy', max_depth=70,\n",
       "                       max_features='sqrt', min_samples_split=10,\n",
       "                       n_estimators=800)"
      ]
     },
     "execution_count": 13,
     "metadata": {},
     "output_type": "execute_result"
    }
   ],
   "source": [
    "rf_best_param_model = RandomForestClassifier(**rf_best_params_saved_pickle)\n",
    "rf_best_param_model.fit(X_train, train_y)"
   ]
  },
  {
   "cell_type": "code",
   "execution_count": 14,
   "id": "32d3581f",
   "metadata": {},
   "outputs": [
    {
     "name": "stdout",
     "output_type": "stream",
     "text": [
      "sum_preds               : 40000\n",
      "sum_correct_predictions : 40000\n",
      "sum_wrong_predictions   : 0\n",
      "misclassification_error : 0.0\n",
      "Accuarcy                : 1.0\n",
      "              precision    recall  f1-score   support\n",
      "\n",
      "           0       1.00      1.00      1.00       420\n",
      "           1       1.00      1.00      1.00       871\n",
      "           2       1.00      1.00      1.00      1254\n",
      "           3       1.00      1.00      1.00      1713\n",
      "           4       1.00      1.00      1.00      2067\n",
      "           5       1.00      1.00      1.00      2393\n",
      "           6       1.00      1.00      1.00      2751\n",
      "           7       1.00      1.00      1.00      3195\n",
      "           8       1.00      1.00      1.00      3684\n",
      "           9       1.00      1.00      1.00      3820\n",
      "          10       1.00      1.00      1.00      3669\n",
      "          11       1.00      1.00      1.00      3116\n",
      "          12       1.00      1.00      1.00      2748\n",
      "          13       1.00      1.00      1.00      2359\n",
      "          14       1.00      1.00      1.00      1939\n",
      "          15       1.00      1.00      1.00      1618\n",
      "          16       1.00      1.00      1.00      1266\n",
      "          17       1.00      1.00      1.00       750\n",
      "          18       1.00      1.00      1.00       367\n",
      "\n",
      "    accuracy                           1.00     40000\n",
      "   macro avg       1.00      1.00      1.00     40000\n",
      "weighted avg       1.00      1.00      1.00     40000\n",
      "\n"
     ]
    }
   ],
   "source": [
    "predictions = rf_best_param_model.predict(X_train)\n",
    "model_predictions(X_train, train_y, predictions)"
   ]
  },
  {
   "cell_type": "code",
   "execution_count": 15,
   "id": "4acd1664",
   "metadata": {},
   "outputs": [
    {
     "name": "stdout",
     "output_type": "stream",
     "text": [
      "sum_preds               : 10000\n",
      "sum_correct_predictions : 7783\n",
      "sum_wrong_predictions   : 2217\n",
      "misclassification_error : 0.2217\n",
      "Accuarcy                : 0.7783\n",
      "              precision    recall  f1-score   support\n",
      "\n",
      "           0       0.91      0.89      0.90       102\n",
      "           1       0.85      0.92      0.89       202\n",
      "           2       0.90      0.90      0.90       343\n",
      "           3       0.87      0.85      0.86       439\n",
      "           4       0.84      0.80      0.82       537\n",
      "           5       0.80      0.78      0.79       597\n",
      "           6       0.80      0.79      0.80       692\n",
      "           7       0.80      0.76      0.78       817\n",
      "           8       0.76      0.81      0.78       917\n",
      "           9       0.73      0.82      0.77       987\n",
      "          10       0.76      0.76      0.76       938\n",
      "          11       0.71      0.75      0.73       762\n",
      "          12       0.69      0.79      0.74       706\n",
      "          13       0.77      0.76      0.77       578\n",
      "          14       0.86      0.66      0.75       459\n",
      "          15       0.81      0.71      0.76       367\n",
      "          16       0.78      0.72      0.75       292\n",
      "          17       0.85      0.53      0.65       190\n",
      "          18       0.84      0.65      0.74        75\n",
      "\n",
      "    accuracy                           0.78     10000\n",
      "   macro avg       0.81      0.77      0.78     10000\n",
      "weighted avg       0.78      0.78      0.78     10000\n",
      "\n"
     ]
    }
   ],
   "source": [
    "val_predictions = rf_best_param_model.predict(X_val)\n",
    "model_predictions(X_val, val_y, val_predictions)"
   ]
  },
  {
   "cell_type": "markdown",
   "id": "d4bc08bd",
   "metadata": {},
   "source": [
    "# Retrain using whole train dataset and predictions on test set"
   ]
  },
  {
   "cell_type": "code",
   "execution_count": 16,
   "id": "5a1aff95",
   "metadata": {},
   "outputs": [
    {
     "name": "stdout",
     "output_type": "stream",
     "text": [
      "(50000,)\n",
      "(50000, 1568)\n",
      "(10000, 1568)\n"
     ]
    }
   ],
   "source": [
    "X_train, X_test, train_y = data_load()\n",
    "print(train_y.shape)\n",
    "print(X_train.shape)\n",
    "print(X_test.shape)"
   ]
  },
  {
   "cell_type": "code",
   "execution_count": 17,
   "id": "f2be8283",
   "metadata": {},
   "outputs": [
    {
     "data": {
      "text/plain": [
       "RandomForestClassifier(bootstrap=False, criterion='entropy', max_depth=70,\n",
       "                       max_features='sqrt', min_samples_split=10,\n",
       "                       n_estimators=800)"
      ]
     },
     "execution_count": 17,
     "metadata": {},
     "output_type": "execute_result"
    }
   ],
   "source": [
    "rf_best_param_model = RandomForestClassifier(**rf_best_params_saved_pickle)\n",
    "rf_best_param_model.fit(X_train, train_y)"
   ]
  },
  {
   "cell_type": "code",
   "execution_count": 18,
   "id": "22e11dac",
   "metadata": {},
   "outputs": [
    {
     "name": "stdout",
     "output_type": "stream",
     "text": [
      "\n",
      "\n",
      "Test Predictions\n",
      "[14  7 10 ... 10  4  6]\n",
      "10000\n"
     ]
    },
    {
     "data": {
      "text/html": [
       "<div>\n",
       "<style scoped>\n",
       "    .dataframe tbody tr th:only-of-type {\n",
       "        vertical-align: middle;\n",
       "    }\n",
       "\n",
       "    .dataframe tbody tr th {\n",
       "        vertical-align: top;\n",
       "    }\n",
       "\n",
       "    .dataframe thead th {\n",
       "        text-align: right;\n",
       "    }\n",
       "</style>\n",
       "<table border=\"1\" class=\"dataframe\">\n",
       "  <thead>\n",
       "    <tr style=\"text-align: right;\">\n",
       "      <th></th>\n",
       "      <th>Class</th>\n",
       "    </tr>\n",
       "    <tr>\n",
       "      <th>Index</th>\n",
       "      <th></th>\n",
       "    </tr>\n",
       "  </thead>\n",
       "  <tbody>\n",
       "    <tr>\n",
       "      <th>0</th>\n",
       "      <td>14</td>\n",
       "    </tr>\n",
       "    <tr>\n",
       "      <th>1</th>\n",
       "      <td>7</td>\n",
       "    </tr>\n",
       "    <tr>\n",
       "      <th>2</th>\n",
       "      <td>10</td>\n",
       "    </tr>\n",
       "    <tr>\n",
       "      <th>3</th>\n",
       "      <td>7</td>\n",
       "    </tr>\n",
       "    <tr>\n",
       "      <th>4</th>\n",
       "      <td>5</td>\n",
       "    </tr>\n",
       "    <tr>\n",
       "      <th>...</th>\n",
       "      <td>...</td>\n",
       "    </tr>\n",
       "    <tr>\n",
       "      <th>9995</th>\n",
       "      <td>7</td>\n",
       "    </tr>\n",
       "    <tr>\n",
       "      <th>9996</th>\n",
       "      <td>12</td>\n",
       "    </tr>\n",
       "    <tr>\n",
       "      <th>9997</th>\n",
       "      <td>10</td>\n",
       "    </tr>\n",
       "    <tr>\n",
       "      <th>9998</th>\n",
       "      <td>4</td>\n",
       "    </tr>\n",
       "    <tr>\n",
       "      <th>9999</th>\n",
       "      <td>6</td>\n",
       "    </tr>\n",
       "  </tbody>\n",
       "</table>\n",
       "<p>10000 rows × 1 columns</p>\n",
       "</div>"
      ],
      "text/plain": [
       "       Class\n",
       "Index       \n",
       "0         14\n",
       "1          7\n",
       "2         10\n",
       "3          7\n",
       "4          5\n",
       "...      ...\n",
       "9995       7\n",
       "9996      12\n",
       "9997      10\n",
       "9998       4\n",
       "9999       6\n",
       "\n",
       "[10000 rows x 1 columns]"
      ]
     },
     "execution_count": 18,
     "metadata": {},
     "output_type": "execute_result"
    }
   ],
   "source": [
    "print('\\n')\n",
    "print(\"Test Predictions\")\n",
    "test_predictions = rf_best_param_model.predict(X_test)\n",
    "print(test_predictions)\n",
    "print(len(test_predictions))\n",
    "df = pd.DataFrame(test_predictions)\n",
    "df.index.name= 'Index'\n",
    "df.columns = ['Class']\n",
    "file_name = 'test_predictions_random_forest_grid_searchbest_params_final.csv'\n",
    "df.to_csv(file_name, index=True)\n",
    "df"
   ]
  },
  {
   "cell_type": "code",
   "execution_count": null,
   "id": "40563b77",
   "metadata": {},
   "outputs": [],
   "source": []
  }
 ],
 "metadata": {
  "kernelspec": {
   "display_name": "Python 3 (ipykernel)",
   "language": "python",
   "name": "python3"
  },
  "language_info": {
   "codemirror_mode": {
    "name": "ipython",
    "version": 3
   },
   "file_extension": ".py",
   "mimetype": "text/x-python",
   "name": "python",
   "nbconvert_exporter": "python",
   "pygments_lexer": "ipython3",
   "version": "3.9.12"
  }
 },
 "nbformat": 4,
 "nbformat_minor": 5
}
