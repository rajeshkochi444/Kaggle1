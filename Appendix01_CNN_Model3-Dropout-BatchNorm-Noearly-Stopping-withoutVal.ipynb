{
 "cells": [
  {
   "cell_type": "markdown",
   "id": "b997272f",
   "metadata": {},
   "source": [
    "# CNN Model with Full Train Dataset without Validation Set\n",
    "# CNN Model with Dropout, Batch Normalization, No Early Stopping "
   ]
  },
  {
   "cell_type": "code",
   "execution_count": 1,
   "id": "af1cdfb1",
   "metadata": {},
   "outputs": [],
   "source": [
    "from matplotlib import pyplot as plt\n",
    "from keras.datasets import mnist\n",
    "import numpy as np\n",
    "import pandas as pd\n",
    "from sklearn.model_selection import train_test_split"
   ]
  },
  {
   "cell_type": "code",
   "execution_count": 2,
   "id": "57c0ffe8",
   "metadata": {},
   "outputs": [
    {
     "name": "stdout",
     "output_type": "stream",
     "text": [
      "(50000,)\n",
      "(50000, 1568)\n",
      "(10000, 1568)\n"
     ]
    }
   ],
   "source": [
    "train_X = pd.read_csv('train.csv')\n",
    "test_X = pd.read_csv('test.csv' )\n",
    "train_X.drop(train_X.columns[train_X.columns.str.contains('unnamed',case = False)],axis = 1, inplace = True)\n",
    "test_X.drop(test_X.columns[test_X.columns.str.contains('unnamed',case = False)],axis = 1, inplace = True)\n",
    "\n",
    "train_result = pd.read_csv('train_result.csv')\n",
    "train_y_class = train_result['Class']\n",
    "\n",
    "X_train = train_X.to_numpy()\n",
    "X_test = test_X.to_numpy()\n",
    "train_y = train_y_class.to_numpy()\n",
    "\n",
    "print(train_y.shape)\n",
    "print(X_train.shape)\n",
    "print(X_test.shape)"
   ]
  },
  {
   "cell_type": "code",
   "execution_count": 3,
   "id": "40661cde",
   "metadata": {},
   "outputs": [],
   "source": [
    "#X_train, X_val, train_y, val_y = train_test_split(X_train, train_y,  test_size=0.20, random_state=101)"
   ]
  },
  {
   "cell_type": "code",
   "execution_count": 4,
   "id": "621912de",
   "metadata": {},
   "outputs": [
    {
     "name": "stdout",
     "output_type": "stream",
     "text": [
      "(50000, 1568)\n",
      "(50000,)\n"
     ]
    }
   ],
   "source": [
    "print(X_train.shape)\n",
    "#print(X_val.shape)\n",
    "print(train_y.shape)\n",
    "#print(val_y.shape)"
   ]
  },
  {
   "cell_type": "code",
   "execution_count": 5,
   "id": "06f9efca",
   "metadata": {},
   "outputs": [],
   "source": [
    "from tensorflow.keras.utils import to_categorical\n",
    "c = len(np.unique(train_y))\n",
    "y_train = to_categorical(train_y,c)\n",
    "#y_val = to_categorical(val_y,c)"
   ]
  },
  {
   "cell_type": "code",
   "execution_count": 6,
   "id": "e908b74a",
   "metadata": {},
   "outputs": [],
   "source": [
    "#y_train\n",
    "#y_val"
   ]
  },
  {
   "cell_type": "code",
   "execution_count": 7,
   "id": "b99ddc0c",
   "metadata": {},
   "outputs": [
    {
     "name": "stdout",
     "output_type": "stream",
     "text": [
      "(50000, 28, 56, 1)\n",
      "(10000, 28, 56, 1)\n"
     ]
    }
   ],
   "source": [
    "X_train = X_train.reshape(50000, 28, 56, 1)\n",
    "#X_val = X_val.reshape(10000, 28, 56, 1)\n",
    "X_test = X_test.reshape(10000, 28, 56, 1)\n",
    "print(X_train.shape)\n",
    "#print(X_val.shape)\n",
    "print(X_test.shape)"
   ]
  },
  {
   "cell_type": "code",
   "execution_count": 8,
   "id": "f3b0fff4",
   "metadata": {},
   "outputs": [
    {
     "data": {
      "text/plain": [
       "<matplotlib.image.AxesImage at 0x225cf1fa130>"
      ]
     },
     "execution_count": 8,
     "metadata": {},
     "output_type": "execute_result"
    },
    {
     "data": {
      "image/png": "[encoded data removed]",
      "text/plain": [
       "<Figure size 432x288 with 1 Axes>"
      ]
     },
     "metadata": {
      "needs_background": "light"
     },
     "output_type": "display_data"
    }
   ],
   "source": [
    "single_image = X_train[0]\n",
    "plt.imshow(single_image)"
   ]
  },
  {
   "cell_type": "code",
   "execution_count": 9,
   "id": "1969245e",
   "metadata": {},
   "outputs": [],
   "source": [
    "from tensorflow.keras.models import Sequential\n",
    "from tensorflow.keras.layers import Dense, Conv2D, MaxPool2D, Flatten, Dropout, BatchNormalization"
   ]
  },
  {
   "cell_type": "code",
   "execution_count": 10,
   "id": "374cddb2",
   "metadata": {},
   "outputs": [],
   "source": [
    "model = Sequential()\n",
    "\n",
    "# CONVOLUTIONAL LAYER\n",
    "model.add(Conv2D(filters=32, kernel_size=(3,3),input_shape=(28, 56, 1), activation='relu',))\n",
    "#Batch Normaliation\n",
    "model.add(BatchNormalization())\n",
    "# POOLING LAYER\n",
    "#model.add(MaxPool2D(pool_size=(2, 2)))\n",
    "\n",
    "model.add(Conv2D(filters=64, kernel_size=(3,3),input_shape=(28, 56, 1), activation='relu',))\n",
    "#Batch Normaliation\n",
    "model.add(BatchNormalization())\n",
    "# POOLING LAYER\n",
    "model.add(MaxPool2D(pool_size=(2, 2)))\n",
    "#Dropout Layer\n",
    "model.add(Dropout(0.3))\n",
    "\n",
    "model.add(Conv2D(filters=128, kernel_size=(3,3),input_shape=(28, 56, 1), activation='relu',))\n",
    "#Batch Normaliation\n",
    "model.add(BatchNormalization())\n",
    "# POOLING LAYER\n",
    "model.add(MaxPool2D(pool_size=(2, 2)))\n",
    "#Dropout Layer\n",
    "model.add(Dropout(0.3))\n",
    "\n",
    "# FLATTEN IMAGES  BEFORE FINAL LAYER\n",
    "model.add(Flatten())\n",
    "\n",
    "# 128 NEURONS IN DENSE HIDDEN LAYER (YOU CAN CHANGE THIS NUMBER OF NEURONS)\n",
    "model.add(Dense(128, activation='relu'))\n",
    "#Batch Normaliation\n",
    "model.add(BatchNormalization())\n",
    "#Dropout Layer\n",
    "model.add(Dropout(0.3))\n",
    "\n",
    "model.add(Dense(64, activation='relu'))\n",
    "#Batch Normaliation\n",
    "model.add(BatchNormalization())\n",
    "#Dropout Layer\n",
    "model.add(Dropout(0.3))\n",
    "\n",
    "model.add(Dense(32, activation='relu'))\n",
    "#Batch Normaliation\n",
    "model.add(BatchNormalization())\n",
    "#Dropout Layer\n",
    "model.add(Dropout(0.3))\n",
    "\n",
    "# LAST LAYER IS THE CLASSIFIER, THUS 10 POSSIBLE CLASSES\n",
    "model.add(Dense(19, activation='softmax'))\n",
    "\n",
    "# https://keras.io/metrics/\n",
    "model.compile(loss='categorical_crossentropy',\n",
    "              optimizer='adam',\n",
    "              metrics=['accuracy']) # we can add in additional metrics https://keras.io/metrics/"
   ]
  },
  {
   "cell_type": "code",
   "execution_count": 11,
   "id": "1f078c3d",
   "metadata": {},
   "outputs": [
    {
     "name": "stdout",
     "output_type": "stream",
     "text": [
      "Model: \"sequential\"\n",
      "_________________________________________________________________\n",
      " Layer (type)                Output Shape              Param #   \n",
      "=================================================================\n",
      " conv2d (Conv2D)             (None, 26, 54, 32)        320       \n",
      "                                                                 \n",
      " batch_normalization (BatchN  (None, 26, 54, 32)       128       \n",
      " ormalization)                                                   \n",
      "                                                                 \n",
      " conv2d_1 (Conv2D)           (None, 24, 52, 64)        18496     \n",
      "                                                                 \n",
      " batch_normalization_1 (Batc  (None, 24, 52, 64)       256       \n",
      " hNormalization)                                                 \n",
      "                                                                 \n",
      " max_pooling2d (MaxPooling2D  (None, 12, 26, 64)       0         \n",
      " )                                                               \n",
      "                                                                 \n",
      " dropout (Dropout)           (None, 12, 26, 64)        0         \n",
      "                                                                 \n",
      " conv2d_2 (Conv2D)           (None, 10, 24, 128)       73856     \n",
      "                                                                 \n",
      " batch_normalization_2 (Batc  (None, 10, 24, 128)      512       \n",
      " hNormalization)                                                 \n",
      "                                                                 \n",
      " max_pooling2d_1 (MaxPooling  (None, 5, 12, 128)       0         \n",
      " 2D)                                                             \n",
      "                                                                 \n",
      " dropout_1 (Dropout)         (None, 5, 12, 128)        0         \n",
      "                                                                 \n",
      " flatten (Flatten)           (None, 7680)              0         \n",
      "                                                                 \n",
      " dense (Dense)               (None, 128)               983168    \n",
      "                                                                 \n",
      " batch_normalization_3 (Batc  (None, 128)              512       \n",
      " hNormalization)                                                 \n",
      "                                                                 \n",
      " dropout_2 (Dropout)         (None, 128)               0         \n",
      "                                                                 \n",
      " dense_1 (Dense)             (None, 64)                8256      \n",
      "                                                                 \n",
      " batch_normalization_4 (Batc  (None, 64)               256       \n",
      " hNormalization)                                                 \n",
      "                                                                 \n",
      " dropout_3 (Dropout)         (None, 64)                0         \n",
      "                                                                 \n",
      " dense_2 (Dense)             (None, 32)                2080      \n",
      "                                                                 \n",
      " batch_normalization_5 (Batc  (None, 32)               128       \n",
      " hNormalization)                                                 \n",
      "                                                                 \n",
      " dropout_4 (Dropout)         (None, 32)                0         \n",
      "                                                                 \n",
      " dense_3 (Dense)             (None, 19)                627       \n",
      "                                                                 \n",
      "=================================================================\n",
      "Total params: 1,088,595\n",
      "Trainable params: 1,087,699\n",
      "Non-trainable params: 896\n",
      "_________________________________________________________________\n"
     ]
    }
   ],
   "source": [
    "model.summary()"
   ]
  },
  {
   "cell_type": "code",
   "execution_count": 12,
   "id": "5f72c031",
   "metadata": {},
   "outputs": [],
   "source": [
    "#from tensorflow.keras.callbacks import EarlyStopping"
   ]
  },
  {
   "cell_type": "code",
   "execution_count": 13,
   "id": "d369fb9b",
   "metadata": {},
   "outputs": [],
   "source": [
    "#early_stop = EarlyStopping(monitor='val_loss',patience=4)"
   ]
  },
  {
   "cell_type": "code",
   "execution_count": 15,
   "id": "f444ec1d",
   "metadata": {},
   "outputs": [
    {
     "name": "stdout",
     "output_type": "stream",
     "text": [
      "(50000, 28, 56, 1)\n",
      "(50000, 19)\n"
     ]
    }
   ],
   "source": [
    "print(X_train.shape)\n",
    "#print(X_val.shape)\n",
    "print(y_train.shape)\n",
    "#print(y_val.shape)"
   ]
  },
  {
   "cell_type": "code",
   "execution_count": 17,
   "id": "4997ebb7",
   "metadata": {},
   "outputs": [
    {
     "name": "stdout",
     "output_type": "stream",
     "text": [
      "Epoch 1/100\n",
      "1563/1563 [==============================] - 214s 135ms/step - loss: 2.2308 - accuracy: 0.2696\n",
      "Epoch 2/100\n",
      "1563/1563 [==============================] - 216s 138ms/step - loss: 1.3499 - accuracy: 0.5549\n",
      "Epoch 3/100\n",
      "1563/1563 [==============================] - 221s 141ms/step - loss: 0.9064 - accuracy: 0.7155\n",
      "Epoch 4/100\n",
      "1563/1563 [==============================] - 217s 139ms/step - loss: 0.6743 - accuracy: 0.7934\n",
      "Epoch 5/100\n",
      "1563/1563 [==============================] - 217s 139ms/step - loss: 0.5468 - accuracy: 0.8381\n",
      "Epoch 6/100\n",
      "1563/1563 [==============================] - 205s 131ms/step - loss: 0.4685 - accuracy: 0.8612\n",
      "Epoch 7/100\n",
      "1563/1563 [==============================] - 206s 132ms/step - loss: 0.4217 - accuracy: 0.8773\n",
      "Epoch 8/100\n",
      "1563/1563 [==============================] - 203s 130ms/step - loss: 0.3939 - accuracy: 0.8860\n",
      "Epoch 9/100\n",
      "1563/1563 [==============================] - 204s 130ms/step - loss: 0.3657 - accuracy: 0.8945\n",
      "Epoch 10/100\n",
      "1563/1563 [==============================] - 201s 129ms/step - loss: 0.3130 - accuracy: 0.9098\n",
      "Epoch 11/100\n",
      "1563/1563 [==============================] - 201s 129ms/step - loss: 0.2961 - accuracy: 0.9145\n",
      "Epoch 12/100\n",
      "1563/1563 [==============================] - 203s 130ms/step - loss: 0.2928 - accuracy: 0.9164\n",
      "Epoch 13/100\n",
      "1563/1563 [==============================] - 202s 129ms/step - loss: 0.2593 - accuracy: 0.9271\n",
      "Epoch 14/100\n",
      "1563/1563 [==============================] - 201s 128ms/step - loss: 0.2499 - accuracy: 0.9275\n",
      "Epoch 15/100\n",
      "1563/1563 [==============================] - 203s 130ms/step - loss: 0.2396 - accuracy: 0.9318\n",
      "Epoch 16/100\n",
      "1563/1563 [==============================] - 202s 129ms/step - loss: 0.2288 - accuracy: 0.9347\n",
      "Epoch 17/100\n",
      "1563/1563 [==============================] - 204s 131ms/step - loss: 0.2063 - accuracy: 0.9409\n",
      "Epoch 18/100\n",
      "1563/1563 [==============================] - 202s 129ms/step - loss: 0.2052 - accuracy: 0.9398\n",
      "Epoch 19/100\n",
      "1563/1563 [==============================] - 201s 129ms/step - loss: 0.2052 - accuracy: 0.9410\n",
      "Epoch 20/100\n",
      "1563/1563 [==============================] - 201s 129ms/step - loss: 0.1856 - accuracy: 0.9468\n",
      "Epoch 21/100\n",
      "1563/1563 [==============================] - 204s 131ms/step - loss: 0.1831 - accuracy: 0.9475\n",
      "Epoch 22/100\n",
      "1563/1563 [==============================] - 201s 129ms/step - loss: 0.1828 - accuracy: 0.9473\n",
      "Epoch 23/100\n",
      "1563/1563 [==============================] - 200s 128ms/step - loss: 0.1690 - accuracy: 0.9517\n",
      "Epoch 24/100\n",
      "1563/1563 [==============================] - 203s 130ms/step - loss: 0.1676 - accuracy: 0.9513\n",
      "Epoch 25/100\n",
      "1563/1563 [==============================] - 209s 134ms/step - loss: 0.1492 - accuracy: 0.9577\n",
      "Epoch 26/100\n",
      "1563/1563 [==============================] - 204s 131ms/step - loss: 0.1578 - accuracy: 0.9555\n",
      "Epoch 27/100\n",
      "1563/1563 [==============================] - 203s 130ms/step - loss: 0.1576 - accuracy: 0.9555\n",
      "Epoch 28/100\n",
      "1563/1563 [==============================] - 200s 128ms/step - loss: 0.1475 - accuracy: 0.9582\n",
      "Epoch 29/100\n",
      "1563/1563 [==============================] - 203s 130ms/step - loss: 0.1419 - accuracy: 0.9592\n",
      "Epoch 30/100\n",
      "1563/1563 [==============================] - 202s 129ms/step - loss: 0.1367 - accuracy: 0.9606\n",
      "Epoch 31/100\n",
      "1563/1563 [==============================] - 201s 129ms/step - loss: 0.1453 - accuracy: 0.9582\n",
      "Epoch 32/100\n",
      "1563/1563 [==============================] - 202s 129ms/step - loss: 0.1357 - accuracy: 0.9606\n",
      "Epoch 33/100\n",
      "1563/1563 [==============================] - 203s 130ms/step - loss: 0.1308 - accuracy: 0.9624\n",
      "Epoch 34/100\n",
      "1563/1563 [==============================] - 201s 128ms/step - loss: 0.1371 - accuracy: 0.9606\n",
      "Epoch 35/100\n",
      "1563/1563 [==============================] - 203s 130ms/step - loss: 0.1233 - accuracy: 0.9650\n",
      "Epoch 36/100\n",
      "1563/1563 [==============================] - 203s 130ms/step - loss: 0.1218 - accuracy: 0.9645\n",
      "Epoch 37/100\n",
      "1563/1563 [==============================] - 201s 128ms/step - loss: 0.1213 - accuracy: 0.9651\n",
      "Epoch 38/100\n",
      "1563/1563 [==============================] - 202s 130ms/step - loss: 0.1181 - accuracy: 0.9658\n",
      "Epoch 39/100\n",
      "1563/1563 [==============================] - 202s 129ms/step - loss: 0.1106 - accuracy: 0.9666\n",
      "Epoch 40/100\n",
      "1563/1563 [==============================] - 202s 129ms/step - loss: 0.1136 - accuracy: 0.9670\n",
      "Epoch 41/100\n",
      "1563/1563 [==============================] - 202s 129ms/step - loss: 0.1104 - accuracy: 0.9681\n",
      "Epoch 42/100\n",
      "1563/1563 [==============================] - 202s 129ms/step - loss: 0.1113 - accuracy: 0.9669\n",
      "Epoch 43/100\n",
      "1563/1563 [==============================] - 201s 129ms/step - loss: 0.1083 - accuracy: 0.9685\n",
      "Epoch 44/100\n",
      "1563/1563 [==============================] - 211s 135ms/step - loss: 0.1084 - accuracy: 0.9695\n",
      "Epoch 45/100\n",
      "1563/1563 [==============================] - 203s 130ms/step - loss: 0.1046 - accuracy: 0.9697\n",
      "Epoch 46/100\n",
      "1563/1563 [==============================] - 202s 129ms/step - loss: 0.1028 - accuracy: 0.9713\n",
      "Epoch 47/100\n",
      "1563/1563 [==============================] - 203s 130ms/step - loss: 0.0965 - accuracy: 0.9716\n",
      "Epoch 48/100\n",
      "1563/1563 [==============================] - 202s 129ms/step - loss: 0.0975 - accuracy: 0.9722\n",
      "Epoch 49/100\n",
      "1563/1563 [==============================] - 206s 132ms/step - loss: 0.1040 - accuracy: 0.9704\n",
      "Epoch 50/100\n",
      "1563/1563 [==============================] - 204s 130ms/step - loss: 0.1052 - accuracy: 0.9702\n",
      "Epoch 51/100\n",
      "1563/1563 [==============================] - 203s 130ms/step - loss: 0.0891 - accuracy: 0.9737\n",
      "Epoch 52/100\n",
      "1563/1563 [==============================] - 202s 129ms/step - loss: 0.0956 - accuracy: 0.9722\n",
      "Epoch 53/100\n",
      "1563/1563 [==============================] - 208s 133ms/step - loss: 0.0931 - accuracy: 0.9729\n",
      "Epoch 54/100\n",
      "1563/1563 [==============================] - 202s 129ms/step - loss: 0.0908 - accuracy: 0.9728\n",
      "Epoch 55/100\n",
      "1563/1563 [==============================] - 201s 128ms/step - loss: 0.0930 - accuracy: 0.9728\n",
      "Epoch 56/100\n",
      "1563/1563 [==============================] - 26150s 17s/step - loss: 0.0952 - accuracy: 0.9721\n",
      "Epoch 57/100\n",
      "1563/1563 [==============================] - 219s 140ms/step - loss: 0.0861 - accuracy: 0.9745\n",
      "Epoch 58/100\n",
      "1563/1563 [==============================] - 222s 142ms/step - loss: 0.0878 - accuracy: 0.9743\n",
      "Epoch 59/100\n",
      "1563/1563 [==============================] - 232s 148ms/step - loss: 0.0849 - accuracy: 0.9752\n",
      "Epoch 60/100\n",
      "1563/1563 [==============================] - 228s 146ms/step - loss: 0.0922 - accuracy: 0.9732\n",
      "Epoch 61/100\n",
      "1563/1563 [==============================] - 213s 136ms/step - loss: 0.0860 - accuracy: 0.9754\n",
      "Epoch 62/100\n",
      "1563/1563 [==============================] - 222s 142ms/step - loss: 0.0874 - accuracy: 0.9742\n",
      "Epoch 63/100\n",
      "1563/1563 [==============================] - 216s 138ms/step - loss: 0.0815 - accuracy: 0.9762\n",
      "Epoch 64/100\n",
      "1563/1563 [==============================] - 222s 142ms/step - loss: 0.0802 - accuracy: 0.9758\n",
      "Epoch 65/100\n",
      "1563/1563 [==============================] - 213s 136ms/step - loss: 0.0865 - accuracy: 0.9751\n",
      "Epoch 66/100\n",
      "1563/1563 [==============================] - 219s 140ms/step - loss: 0.0792 - accuracy: 0.9766\n",
      "Epoch 67/100\n",
      "1563/1563 [==============================] - 213s 136ms/step - loss: 0.0783 - accuracy: 0.9772\n",
      "Epoch 68/100\n",
      "1563/1563 [==============================] - 218s 139ms/step - loss: 0.0802 - accuracy: 0.9759\n",
      "Epoch 69/100\n",
      "1563/1563 [==============================] - 217s 139ms/step - loss: 0.0848 - accuracy: 0.9757\n",
      "Epoch 70/100\n",
      "1563/1563 [==============================] - 209s 134ms/step - loss: 0.0798 - accuracy: 0.9765\n",
      "Epoch 71/100\n",
      "1563/1563 [==============================] - 207s 132ms/step - loss: 0.0839 - accuracy: 0.9757\n",
      "Epoch 72/100\n",
      "1563/1563 [==============================] - 209s 134ms/step - loss: 0.0713 - accuracy: 0.9780\n",
      "Epoch 73/100\n",
      "1563/1563 [==============================] - 210s 134ms/step - loss: 0.0694 - accuracy: 0.9794\n",
      "Epoch 74/100\n",
      "1563/1563 [==============================] - 208s 133ms/step - loss: 0.0757 - accuracy: 0.9781\n",
      "Epoch 75/100\n",
      "1563/1563 [==============================] - 208s 133ms/step - loss: 0.0711 - accuracy: 0.9789\n",
      "Epoch 76/100\n",
      "1563/1563 [==============================] - 226s 145ms/step - loss: 0.0746 - accuracy: 0.9783\n"
     ]
    },
    {
     "name": "stdout",
     "output_type": "stream",
     "text": [
      "Epoch 77/100\n",
      "1563/1563 [==============================] - 205s 131ms/step - loss: 0.0669 - accuracy: 0.9800\n",
      "Epoch 78/100\n",
      "1563/1563 [==============================] - 206s 131ms/step - loss: 0.0779 - accuracy: 0.9774\n",
      "Epoch 79/100\n",
      "1563/1563 [==============================] - 202s 129ms/step - loss: 0.0751 - accuracy: 0.9788\n",
      "Epoch 80/100\n",
      "1563/1563 [==============================] - 202s 129ms/step - loss: 0.0743 - accuracy: 0.9778\n",
      "Epoch 81/100\n",
      "1563/1563 [==============================] - 212s 136ms/step - loss: 0.0750 - accuracy: 0.9782\n",
      "Epoch 82/100\n",
      "1563/1563 [==============================] - 207s 132ms/step - loss: 0.0681 - accuracy: 0.9806\n",
      "Epoch 83/100\n",
      "1563/1563 [==============================] - 207s 132ms/step - loss: 0.0668 - accuracy: 0.9803\n",
      "Epoch 84/100\n",
      "1563/1563 [==============================] - 208s 133ms/step - loss: 0.0742 - accuracy: 0.9781\n",
      "Epoch 85/100\n",
      "1563/1563 [==============================] - 209s 133ms/step - loss: 0.0706 - accuracy: 0.9790\n",
      "Epoch 86/100\n",
      "1563/1563 [==============================] - 216s 138ms/step - loss: 0.0741 - accuracy: 0.9788\n",
      "Epoch 87/100\n",
      "1563/1563 [==============================] - 207s 132ms/step - loss: 0.0680 - accuracy: 0.9804\n",
      "Epoch 88/100\n",
      "1563/1563 [==============================] - 204s 131ms/step - loss: 0.0701 - accuracy: 0.9795\n",
      "Epoch 89/100\n",
      "1563/1563 [==============================] - 207s 133ms/step - loss: 0.0681 - accuracy: 0.9798\n",
      "Epoch 90/100\n",
      "1563/1563 [==============================] - 206s 132ms/step - loss: 0.0723 - accuracy: 0.9779\n",
      "Epoch 91/100\n",
      "1563/1563 [==============================] - 213s 137ms/step - loss: 0.0679 - accuracy: 0.9806\n",
      "Epoch 92/100\n",
      "1563/1563 [==============================] - 214s 137ms/step - loss: 0.0665 - accuracy: 0.9806\n",
      "Epoch 93/100\n",
      "1563/1563 [==============================] - 215s 137ms/step - loss: 0.0651 - accuracy: 0.9805\n",
      "Epoch 94/100\n",
      "1563/1563 [==============================] - 226s 144ms/step - loss: 0.0639 - accuracy: 0.9806\n",
      "Epoch 95/100\n",
      "1563/1563 [==============================] - 216s 138ms/step - loss: 0.0622 - accuracy: 0.9811\n",
      "Epoch 96/100\n",
      "1563/1563 [==============================] - 208s 133ms/step - loss: 0.0619 - accuracy: 0.9824\n",
      "Epoch 97/100\n",
      "1563/1563 [==============================] - 207s 132ms/step - loss: 0.0647 - accuracy: 0.9812\n",
      "Epoch 98/100\n",
      "1563/1563 [==============================] - 216s 138ms/step - loss: 0.0644 - accuracy: 0.9811\n",
      "Epoch 99/100\n",
      "1563/1563 [==============================] - 239s 153ms/step - loss: 0.0596 - accuracy: 0.9823\n",
      "Epoch 100/100\n",
      "1563/1563 [==============================] - 214s 137ms/step - loss: 0.0668 - accuracy: 0.9802\n"
     ]
    },
    {
     "data": {
      "text/plain": [
       "<keras.callbacks.History at 0x225f3ccbf10>"
      ]
     },
     "execution_count": 17,
     "metadata": {},
     "output_type": "execute_result"
    }
   ],
   "source": [
    "epochs=100\n",
    "#model.fit(X_train,y_train,epochs=epochs,validation_data=(X_val, y_val),callbacks=[early_stop])\n",
    "model.fit(X_train,y_train,epochs=epochs)"
   ]
  },
  {
   "cell_type": "code",
   "execution_count": 18,
   "id": "a1374685",
   "metadata": {},
   "outputs": [
    {
     "data": {
      "text/plain": [
       "['loss', 'accuracy']"
      ]
     },
     "execution_count": 18,
     "metadata": {},
     "output_type": "execute_result"
    }
   ],
   "source": [
    "model.metrics_names"
   ]
  },
  {
   "cell_type": "code",
   "execution_count": 19,
   "id": "99d0357f",
   "metadata": {},
   "outputs": [],
   "source": [
    "losses = pd.DataFrame(model.history.history)"
   ]
  },
  {
   "cell_type": "code",
   "execution_count": 20,
   "id": "426e8123",
   "metadata": {},
   "outputs": [
    {
     "data": {
      "text/html": [
       "<div>\n",
       "<style scoped>\n",
       "    .dataframe tbody tr th:only-of-type {\n",
       "        vertical-align: middle;\n",
       "    }\n",
       "\n",
       "    .dataframe tbody tr th {\n",
       "        vertical-align: top;\n",
       "    }\n",
       "\n",
       "    .dataframe thead th {\n",
       "        text-align: right;\n",
       "    }\n",
       "</style>\n",
       "<table border=\"1\" class=\"dataframe\">\n",
       "  <thead>\n",
       "    <tr style=\"text-align: right;\">\n",
       "      <th></th>\n",
       "      <th>loss</th>\n",
       "      <th>accuracy</th>\n",
       "    </tr>\n",
       "  </thead>\n",
       "  <tbody>\n",
       "    <tr>\n",
       "      <th>0</th>\n",
       "      <td>2.230813</td>\n",
       "      <td>0.26962</td>\n",
       "    </tr>\n",
       "    <tr>\n",
       "      <th>1</th>\n",
       "      <td>1.349896</td>\n",
       "      <td>0.55490</td>\n",
       "    </tr>\n",
       "    <tr>\n",
       "      <th>2</th>\n",
       "      <td>0.906373</td>\n",
       "      <td>0.71554</td>\n",
       "    </tr>\n",
       "    <tr>\n",
       "      <th>3</th>\n",
       "      <td>0.674331</td>\n",
       "      <td>0.79340</td>\n",
       "    </tr>\n",
       "    <tr>\n",
       "      <th>4</th>\n",
       "      <td>0.546809</td>\n",
       "      <td>0.83814</td>\n",
       "    </tr>\n",
       "  </tbody>\n",
       "</table>\n",
       "</div>"
      ],
      "text/plain": [
       "       loss  accuracy\n",
       "0  2.230813   0.26962\n",
       "1  1.349896   0.55490\n",
       "2  0.906373   0.71554\n",
       "3  0.674331   0.79340\n",
       "4  0.546809   0.83814"
      ]
     },
     "execution_count": 20,
     "metadata": {},
     "output_type": "execute_result"
    }
   ],
   "source": [
    "losses.head()"
   ]
  },
  {
   "cell_type": "code",
   "execution_count": 22,
   "id": "958b23fb",
   "metadata": {},
   "outputs": [
    {
     "data": {
      "text/plain": [
       "<AxesSubplot:>"
      ]
     },
     "execution_count": 22,
     "metadata": {},
     "output_type": "execute_result"
    },
    {
     "data": {
      "image/png": "[encoded data removed]",
      "text/plain": [
       "<Figure size 432x288 with 1 Axes>"
      ]
     },
     "metadata": {
      "needs_background": "light"
     },
     "output_type": "display_data"
    }
   ],
   "source": [
    "losses[['accuracy']].plot()"
   ]
  },
  {
   "cell_type": "code",
   "execution_count": 23,
   "id": "8cb022d6",
   "metadata": {},
   "outputs": [
    {
     "data": {
      "text/plain": [
       "<AxesSubplot:>"
      ]
     },
     "execution_count": 23,
     "metadata": {},
     "output_type": "execute_result"
    },
    {
     "data": {
      "image/png": "[encoded data removed]",
      "text/plain": [
       "<Figure size 432x288 with 1 Axes>"
      ]
     },
     "metadata": {
      "needs_background": "light"
     },
     "output_type": "display_data"
    }
   ],
   "source": [
    "losses[['loss']].plot()"
   ]
  },
  {
   "cell_type": "code",
   "execution_count": 24,
   "id": "4e312f30",
   "metadata": {},
   "outputs": [
    {
     "data": {
      "text/plain": [
       "<AxesSubplot:>"
      ]
     },
     "execution_count": 24,
     "metadata": {},
     "output_type": "execute_result"
    },
    {
     "data": {
      "image/png": "[encoded data removed]",
      "text/plain": [
       "<Figure size 432x288 with 1 Axes>"
      ]
     },
     "metadata": {
      "needs_background": "light"
     },
     "output_type": "display_data"
    }
   ],
   "source": [
    "model_loss = pd.DataFrame(model.history.history)\n",
    "model_loss.plot()"
   ]
  },
  {
   "cell_type": "code",
   "execution_count": 25,
   "id": "cae480ff",
   "metadata": {},
   "outputs": [],
   "source": [
    "#print(model.metrics_names)\n",
    "#print(model.evaluate(X_val,y_val,verbose=0))"
   ]
  },
  {
   "cell_type": "code",
   "execution_count": 26,
   "id": "5192bdfc",
   "metadata": {},
   "outputs": [],
   "source": [
    "from sklearn.metrics import classification_report,confusion_matrix"
   ]
  },
  {
   "cell_type": "code",
   "execution_count": 27,
   "id": "de5f340f",
   "metadata": {},
   "outputs": [],
   "source": [
    "#predictions = np.argmax(model.predict(X_val),axis=1)\n",
    "#predictions"
   ]
  },
  {
   "cell_type": "code",
   "execution_count": 28,
   "id": "ade6af28",
   "metadata": {},
   "outputs": [],
   "source": [
    "#print(classification_report(val_y,predictions))"
   ]
  },
  {
   "cell_type": "code",
   "execution_count": 29,
   "id": "bdf6f774",
   "metadata": {},
   "outputs": [],
   "source": [
    "#confusion_matrix = confusion_matrix(val_y,predictions)\n",
    "#confusion_matrix"
   ]
  },
  {
   "cell_type": "code",
   "execution_count": 30,
   "id": "8ceea170",
   "metadata": {},
   "outputs": [],
   "source": [
    "#misclassification_error(confusion_matrix):\n",
    "#sum_preds = np.sum(confusion_matrix)\n",
    "#sum_correct = np.sum(np.diag(confusion_matrix))\n",
    "#misclassification_error = 1.0 - (float(sum_correct) / float(sum_preds))\n",
    "    \n",
    "#print(\"sum_preds               :\", int(sum_preds)) \n",
    "#print(\"sum_correct_predictions :\", int(sum_correct)) \n",
    "#print(\"sum_wrong_predictions   :\", int(sum_preds - sum_correct))\n",
    "#print(\"misclassification_error :\", misclassification_error)"
   ]
  },
  {
   "cell_type": "code",
   "execution_count": 31,
   "id": "b7bb4f94",
   "metadata": {},
   "outputs": [],
   "source": [
    "#my_number = X_val[999]\n",
    "#plt.imshow(my_number)"
   ]
  },
  {
   "cell_type": "code",
   "execution_count": 32,
   "id": "494530f7",
   "metadata": {},
   "outputs": [],
   "source": [
    "# SHAPE --> (num_images,width,height,color_channels)\n",
    "#model.predict_classes(my_number.reshape(1,28,56,1))\n",
    "\n",
    "#predict_x=model.predict(my_number.reshape(1,28,56,1)) \n",
    "#classes_x=np.argmax(predict_x,axis=1)\n",
    "#print(classes_x)"
   ]
  },
  {
   "cell_type": "code",
   "execution_count": 33,
   "id": "e091eb5c",
   "metadata": {},
   "outputs": [
    {
     "name": "stdout",
     "output_type": "stream",
     "text": [
      "\n",
      "\n",
      "Test Predictions\n",
      "313/313 [==============================] - 10s 30ms/step\n",
      "[14  7 10 ... 10  4  6]\n",
      "10000\n",
      "<class 'numpy.ndarray'>\n"
     ]
    },
    {
     "data": {
      "text/html": [
       "<div>\n",
       "<style scoped>\n",
       "    .dataframe tbody tr th:only-of-type {\n",
       "        vertical-align: middle;\n",
       "    }\n",
       "\n",
       "    .dataframe tbody tr th {\n",
       "        vertical-align: top;\n",
       "    }\n",
       "\n",
       "    .dataframe thead th {\n",
       "        text-align: right;\n",
       "    }\n",
       "</style>\n",
       "<table border=\"1\" class=\"dataframe\">\n",
       "  <thead>\n",
       "    <tr style=\"text-align: right;\">\n",
       "      <th></th>\n",
       "      <th>Class</th>\n",
       "    </tr>\n",
       "    <tr>\n",
       "      <th>Index</th>\n",
       "      <th></th>\n",
       "    </tr>\n",
       "  </thead>\n",
       "  <tbody>\n",
       "    <tr>\n",
       "      <th>0</th>\n",
       "      <td>14</td>\n",
       "    </tr>\n",
       "    <tr>\n",
       "      <th>1</th>\n",
       "      <td>7</td>\n",
       "    </tr>\n",
       "    <tr>\n",
       "      <th>2</th>\n",
       "      <td>10</td>\n",
       "    </tr>\n",
       "    <tr>\n",
       "      <th>3</th>\n",
       "      <td>7</td>\n",
       "    </tr>\n",
       "    <tr>\n",
       "      <th>4</th>\n",
       "      <td>5</td>\n",
       "    </tr>\n",
       "    <tr>\n",
       "      <th>...</th>\n",
       "      <td>...</td>\n",
       "    </tr>\n",
       "    <tr>\n",
       "      <th>9995</th>\n",
       "      <td>7</td>\n",
       "    </tr>\n",
       "    <tr>\n",
       "      <th>9996</th>\n",
       "      <td>12</td>\n",
       "    </tr>\n",
       "    <tr>\n",
       "      <th>9997</th>\n",
       "      <td>10</td>\n",
       "    </tr>\n",
       "    <tr>\n",
       "      <th>9998</th>\n",
       "      <td>4</td>\n",
       "    </tr>\n",
       "    <tr>\n",
       "      <th>9999</th>\n",
       "      <td>6</td>\n",
       "    </tr>\n",
       "  </tbody>\n",
       "</table>\n",
       "<p>10000 rows × 1 columns</p>\n",
       "</div>"
      ],
      "text/plain": [
       "       Class\n",
       "Index       \n",
       "0         14\n",
       "1          7\n",
       "2         10\n",
       "3          7\n",
       "4          5\n",
       "...      ...\n",
       "9995       7\n",
       "9996      12\n",
       "9997      10\n",
       "9998       4\n",
       "9999       6\n",
       "\n",
       "[10000 rows x 1 columns]"
      ]
     },
     "execution_count": 33,
     "metadata": {},
     "output_type": "execute_result"
    }
   ],
   "source": [
    "print('\\n')\n",
    "print(\"Test Predictions\")\n",
    "test_predictions =  np.argmax(model.predict(X_test),axis=1)\n",
    "print(test_predictions)\n",
    "print(len(test_predictions))\n",
    "print(type(test_predictions))\n",
    "df = pd.DataFrame(test_predictions)\n",
    "df.index.name= 'Index'\n",
    "df.columns = ['Class']\n",
    "file_name = f'test_predictions_cnn_model4-Dropout-batchnorm-NoEarlyStop-FullDataSet-NoVal.csv'\n",
    "df.to_csv(file_name, index=True)\n",
    "df"
   ]
  },
  {
   "cell_type": "code",
   "execution_count": null,
   "id": "a8247b8e",
   "metadata": {},
   "outputs": [],
   "source": []
  }
 ],
 "metadata": {
  "kernelspec": {
   "display_name": "Python 3 (ipykernel)",
   "language": "python",
   "name": "python3"
  },
  "language_info": {
   "codemirror_mode": {
    "name": "ipython",
    "version": 3
   },
   "file_extension": ".py",
   "mimetype": "text/x-python",
   "name": "python",
   "nbconvert_exporter": "python",
   "pygments_lexer": "ipython3",
   "version": "3.9.12"
  }
 },
 "nbformat": 4,
 "nbformat_minor": 5
}
