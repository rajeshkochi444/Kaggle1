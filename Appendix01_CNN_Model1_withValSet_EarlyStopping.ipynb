{
 "cells": [
  {
   "cell_type": "markdown",
   "id": "28e59342",
   "metadata": {},
   "source": [
    "# Simple CNN Model with 20% Validation Dataset and Early Stopping\n",
    "# No Dropout Batch Normalization, "
   ]
  },
  {
   "cell_type": "code",
   "execution_count": 1,
   "id": "af1cdfb1",
   "metadata": {},
   "outputs": [],
   "source": [
    "from matplotlib import pyplot as plt\n",
    "import numpy as np\n",
    "import pandas as pd\n",
    "from sklearn.model_selection import train_test_split"
   ]
  },
  {
   "cell_type": "code",
   "execution_count": 2,
   "id": "57c0ffe8",
   "metadata": {},
   "outputs": [
    {
     "name": "stdout",
     "output_type": "stream",
     "text": [
      "(50000,)\n",
      "(50000, 1568)\n",
      "(10000, 1568)\n"
     ]
    }
   ],
   "source": [
    "train_X = pd.read_csv('train.csv')\n",
    "test_X = pd.read_csv('test.csv' )\n",
    "train_X.drop(train_X.columns[train_X.columns.str.contains('unnamed',case = False)],axis = 1, inplace = True)\n",
    "test_X.drop(test_X.columns[test_X.columns.str.contains('unnamed',case = False)],axis = 1, inplace = True)\n",
    "\n",
    "train_result = pd.read_csv('train_result.csv')\n",
    "train_y_class = train_result['Class']\n",
    "\n",
    "X_train = train_X.to_numpy()\n",
    "X_test = test_X.to_numpy()\n",
    "train_y = train_y_class.to_numpy()\n",
    "\n",
    "print(train_y.shape)\n",
    "print(X_train.shape)\n",
    "print(X_test.shape)"
   ]
  },
  {
   "cell_type": "code",
   "execution_count": 3,
   "id": "40661cde",
   "metadata": {},
   "outputs": [],
   "source": [
    "X_train, X_val, train_y, val_y = train_test_split(X_train, train_y,  test_size=0.20, random_state=101)"
   ]
  },
  {
   "cell_type": "code",
   "execution_count": 4,
   "id": "621912de",
   "metadata": {},
   "outputs": [
    {
     "name": "stdout",
     "output_type": "stream",
     "text": [
      "(40000, 1568)\n",
      "(10000, 1568)\n",
      "(40000,)\n",
      "(10000,)\n"
     ]
    }
   ],
   "source": [
    "print(X_train.shape)\n",
    "print(X_val.shape)\n",
    "print(train_y.shape)\n",
    "print(val_y.shape)"
   ]
  },
  {
   "cell_type": "code",
   "execution_count": 5,
   "id": "06f9efca",
   "metadata": {},
   "outputs": [],
   "source": [
    "from tensorflow.keras.utils import to_categorical\n",
    "c = len(np.unique(train_y))\n",
    "y_train = to_categorical(train_y,c)\n",
    "y_val = to_categorical(val_y,c)"
   ]
  },
  {
   "cell_type": "code",
   "execution_count": 6,
   "id": "e908b74a",
   "metadata": {},
   "outputs": [
    {
     "data": {
      "text/plain": [
       "array([[0., 0., 0., ..., 0., 0., 0.],\n",
       "       [0., 1., 0., ..., 0., 0., 0.],\n",
       "       [0., 0., 0., ..., 0., 0., 0.],\n",
       "       ...,\n",
       "       [0., 1., 0., ..., 0., 0., 0.],\n",
       "       [0., 0., 1., ..., 0., 0., 0.],\n",
       "       [0., 0., 0., ..., 0., 0., 0.]], dtype=float32)"
      ]
     },
     "execution_count": 6,
     "metadata": {},
     "output_type": "execute_result"
    }
   ],
   "source": [
    "#y_train\n",
    "y_val"
   ]
  },
  {
   "cell_type": "code",
   "execution_count": 7,
   "id": "b99ddc0c",
   "metadata": {},
   "outputs": [
    {
     "name": "stdout",
     "output_type": "stream",
     "text": [
      "(40000, 28, 56, 1)\n",
      "(10000, 28, 56, 1)\n",
      "(10000, 28, 56, 1)\n"
     ]
    }
   ],
   "source": [
    "X_train = X_train.reshape(40000, 28, 56, 1)\n",
    "X_val = X_val.reshape(10000, 28, 56, 1)\n",
    "X_test = X_test.reshape(10000, 28, 56, 1)\n",
    "print(X_train.shape)\n",
    "print(X_val.shape)\n",
    "print(X_test.shape)"
   ]
  },
  {
   "cell_type": "code",
   "execution_count": 8,
   "id": "f3b0fff4",
   "metadata": {},
   "outputs": [
    {
     "data": {
      "text/plain": [
       "<matplotlib.image.AxesImage at 0x1d95fef63a0>"
      ]
     },
     "execution_count": 8,
     "metadata": {},
     "output_type": "execute_result"
    },
    {
     "data": {
      "image/png": "[encoded data removed]",
      "text/plain": [
       "<Figure size 432x288 with 1 Axes>"
      ]
     },
     "metadata": {
      "needs_background": "light"
     },
     "output_type": "display_data"
    }
   ],
   "source": [
    "single_image = X_train[0]\n",
    "plt.imshow(single_image)"
   ]
  },
  {
   "cell_type": "code",
   "execution_count": 9,
   "id": "1969245e",
   "metadata": {},
   "outputs": [],
   "source": [
    "from tensorflow.keras.models import Sequential\n",
    "from tensorflow.keras.layers import Dense, Conv2D, MaxPool2D, Flatten"
   ]
  },
  {
   "cell_type": "code",
   "execution_count": 10,
   "id": "374cddb2",
   "metadata": {},
   "outputs": [],
   "source": [
    "model = Sequential()\n",
    "\n",
    "# CONVOLUTIONAL LAYER\n",
    "model.add(Conv2D(filters=32, kernel_size=(3,3),input_shape=(28, 56, 1), activation='relu',))\n",
    "# POOLING LAYER\n",
    "model.add(MaxPool2D(pool_size=(2, 2)))\n",
    "\n",
    "model.add(Conv2D(filters=64, kernel_size=(3,3),input_shape=(28, 56, 1), activation='relu',))\n",
    "# POOLING LAYER\n",
    "model.add(MaxPool2D(pool_size=(2, 2)))\n",
    "\n",
    "model.add(Conv2D(filters=128, kernel_size=(3,3),input_shape=(28, 56, 1), activation='relu',))\n",
    "# POOLING LAYER\n",
    "model.add(MaxPool2D(pool_size=(2, 2)))\n",
    "\n",
    "\n",
    "# FLATTEN IMAGES FROM 28 by 28 to 764 BEFORE FINAL LAYER\n",
    "model.add(Flatten())\n",
    "\n",
    "# 128 NEURONS IN DENSE HIDDEN LAYER (YOU CAN CHANGE THIS NUMBER OF NEURONS)\n",
    "model.add(Dense(128, activation='relu'))\n",
    "model.add(Dense(64, activation='relu'))\n",
    "model.add(Dense(32, activation='relu'))\n",
    "\n",
    "# LAST LAYER IS THE CLASSIFIER, THUS 10 POSSIBLE CLASSES\n",
    "model.add(Dense(19, activation='softmax'))\n",
    "\n",
    "# https://keras.io/metrics/\n",
    "model.compile(loss='categorical_crossentropy',\n",
    "              optimizer='adam',\n",
    "              metrics=['accuracy']) # we can add in additional metrics https://keras.io/metrics/"
   ]
  },
  {
   "cell_type": "code",
   "execution_count": 11,
   "id": "1f078c3d",
   "metadata": {},
   "outputs": [
    {
     "name": "stdout",
     "output_type": "stream",
     "text": [
      "Model: \"sequential\"\n",
      "_________________________________________________________________\n",
      " Layer (type)                Output Shape              Param #   \n",
      "=================================================================\n",
      " conv2d (Conv2D)             (None, 26, 54, 32)        320       \n",
      "                                                                 \n",
      " max_pooling2d (MaxPooling2D  (None, 13, 27, 32)       0         \n",
      " )                                                               \n",
      "                                                                 \n",
      " conv2d_1 (Conv2D)           (None, 11, 25, 64)        18496     \n",
      "                                                                 \n",
      " max_pooling2d_1 (MaxPooling  (None, 5, 12, 64)        0         \n",
      " 2D)                                                             \n",
      "                                                                 \n",
      " conv2d_2 (Conv2D)           (None, 3, 10, 128)        73856     \n",
      "                                                                 \n",
      " max_pooling2d_2 (MaxPooling  (None, 1, 5, 128)        0         \n",
      " 2D)                                                             \n",
      "                                                                 \n",
      " flatten (Flatten)           (None, 640)               0         \n",
      "                                                                 \n",
      " dense (Dense)               (None, 128)               82048     \n",
      "                                                                 \n",
      " dense_1 (Dense)             (None, 64)                8256      \n",
      "                                                                 \n",
      " dense_2 (Dense)             (None, 32)                2080      \n",
      "                                                                 \n",
      " dense_3 (Dense)             (None, 19)                627       \n",
      "                                                                 \n",
      "=================================================================\n",
      "Total params: 185,683\n",
      "Trainable params: 185,683\n",
      "Non-trainable params: 0\n",
      "_________________________________________________________________\n"
     ]
    }
   ],
   "source": [
    "model.summary()"
   ]
  },
  {
   "cell_type": "code",
   "execution_count": 12,
   "id": "5f72c031",
   "metadata": {},
   "outputs": [],
   "source": [
    "from tensorflow.keras.callbacks import EarlyStopping"
   ]
  },
  {
   "cell_type": "code",
   "execution_count": 13,
   "id": "d369fb9b",
   "metadata": {},
   "outputs": [],
   "source": [
    "early_stop = EarlyStopping(monitor='val_loss',patience=4)"
   ]
  },
  {
   "cell_type": "code",
   "execution_count": 14,
   "id": "f444ec1d",
   "metadata": {},
   "outputs": [
    {
     "name": "stdout",
     "output_type": "stream",
     "text": [
      "(40000, 28, 56, 1)\n",
      "(10000, 28, 56, 1)\n",
      "(40000, 19)\n",
      "(10000, 19)\n"
     ]
    }
   ],
   "source": [
    "print(X_train.shape)\n",
    "print(X_val.shape)\n",
    "print(y_train.shape)\n",
    "print(y_val.shape)"
   ]
  },
  {
   "cell_type": "code",
   "execution_count": 15,
   "id": "4997ebb7",
   "metadata": {},
   "outputs": [
    {
     "name": "stdout",
     "output_type": "stream",
     "text": [
      "Epoch 1/100\n",
      "1250/1250 [==============================] - 47s 37ms/step - loss: 1.3016 - accuracy: 0.5630 - val_loss: 0.3429 - val_accuracy: 0.9054\n",
      "Epoch 2/100\n",
      "1250/1250 [==============================] - 47s 38ms/step - loss: 0.2442 - accuracy: 0.9328 - val_loss: 0.1791 - val_accuracy: 0.9505\n",
      "Epoch 3/100\n",
      "1250/1250 [==============================] - 43s 34ms/step - loss: 0.1384 - accuracy: 0.9592 - val_loss: 0.1520 - val_accuracy: 0.9579\n",
      "Epoch 4/100\n",
      "1250/1250 [==============================] - 43s 34ms/step - loss: 0.0871 - accuracy: 0.9742 - val_loss: 0.1302 - val_accuracy: 0.9643\n",
      "Epoch 5/100\n",
      "1250/1250 [==============================] - 40s 32ms/step - loss: 0.0624 - accuracy: 0.9808 - val_loss: 0.1193 - val_accuracy: 0.9675\n",
      "Epoch 6/100\n",
      "1250/1250 [==============================] - 37s 29ms/step - loss: 0.0486 - accuracy: 0.9848 - val_loss: 0.1289 - val_accuracy: 0.9657\n",
      "Epoch 7/100\n",
      "1250/1250 [==============================] - 38s 30ms/step - loss: 0.0407 - accuracy: 0.9873 - val_loss: 0.1137 - val_accuracy: 0.9698\n",
      "Epoch 8/100\n",
      "1250/1250 [==============================] - 38s 30ms/step - loss: 0.0351 - accuracy: 0.9894 - val_loss: 0.1229 - val_accuracy: 0.9709\n",
      "Epoch 9/100\n",
      "1250/1250 [==============================] - 38s 30ms/step - loss: 0.0306 - accuracy: 0.9909 - val_loss: 0.1465 - val_accuracy: 0.9672\n",
      "Epoch 10/100\n",
      "1250/1250 [==============================] - 37s 29ms/step - loss: 0.0292 - accuracy: 0.9906 - val_loss: 0.1204 - val_accuracy: 0.9737\n",
      "Epoch 11/100\n",
      "1250/1250 [==============================] - 38s 30ms/step - loss: 0.0219 - accuracy: 0.9934 - val_loss: 0.0954 - val_accuracy: 0.9790\n",
      "Epoch 12/100\n",
      "1250/1250 [==============================] - 39s 31ms/step - loss: 0.0243 - accuracy: 0.9923 - val_loss: 0.1012 - val_accuracy: 0.9787\n",
      "Epoch 13/100\n",
      "1250/1250 [==============================] - 38s 30ms/step - loss: 0.0243 - accuracy: 0.9926 - val_loss: 0.0984 - val_accuracy: 0.9773\n",
      "Epoch 14/100\n",
      "1250/1250 [==============================] - 37s 30ms/step - loss: 0.0200 - accuracy: 0.9935 - val_loss: 0.1199 - val_accuracy: 0.9726\n",
      "Epoch 15/100\n",
      "1250/1250 [==============================] - 38s 31ms/step - loss: 0.0175 - accuracy: 0.9946 - val_loss: 0.0923 - val_accuracy: 0.9788\n",
      "Epoch 16/100\n",
      "1250/1250 [==============================] - 37s 30ms/step - loss: 0.0199 - accuracy: 0.9937 - val_loss: 0.0992 - val_accuracy: 0.9775\n",
      "Epoch 17/100\n",
      "1250/1250 [==============================] - 42s 33ms/step - loss: 0.0189 - accuracy: 0.9942 - val_loss: 0.1111 - val_accuracy: 0.9766\n",
      "Epoch 18/100\n",
      "1250/1250 [==============================] - 39s 31ms/step - loss: 0.0130 - accuracy: 0.9962 - val_loss: 0.0907 - val_accuracy: 0.9834\n",
      "Epoch 19/100\n",
      "1250/1250 [==============================] - 37s 29ms/step - loss: 0.0182 - accuracy: 0.9946 - val_loss: 0.0892 - val_accuracy: 0.9816\n",
      "Epoch 20/100\n",
      "1250/1250 [==============================] - 39s 31ms/step - loss: 0.0161 - accuracy: 0.9952 - val_loss: 0.1442 - val_accuracy: 0.9714\n",
      "Epoch 21/100\n",
      "1250/1250 [==============================] - 41s 33ms/step - loss: 0.0160 - accuracy: 0.9952 - val_loss: 0.1144 - val_accuracy: 0.9777\n",
      "Epoch 22/100\n",
      "1250/1250 [==============================] - 37s 29ms/step - loss: 0.0128 - accuracy: 0.9962 - val_loss: 0.1166 - val_accuracy: 0.9780\n",
      "Epoch 23/100\n",
      "1250/1250 [==============================] - 36s 29ms/step - loss: 0.0141 - accuracy: 0.9962 - val_loss: 0.0964 - val_accuracy: 0.9820\n"
     ]
    },
    {
     "data": {
      "text/plain": [
       "<keras.callbacks.History at 0x1d9612843d0>"
      ]
     },
     "execution_count": 15,
     "metadata": {},
     "output_type": "execute_result"
    }
   ],
   "source": [
    "epochs=100\n",
    "model.fit(X_train,y_train,epochs=epochs,validation_data=(X_val, y_val),callbacks=[early_stop])"
   ]
  },
  {
   "cell_type": "code",
   "execution_count": 16,
   "id": "a1374685",
   "metadata": {},
   "outputs": [
    {
     "data": {
      "text/plain": [
       "['loss', 'accuracy']"
      ]
     },
     "execution_count": 16,
     "metadata": {},
     "output_type": "execute_result"
    }
   ],
   "source": [
    "model.metrics_names"
   ]
  },
  {
   "cell_type": "code",
   "execution_count": 17,
   "id": "99d0357f",
   "metadata": {},
   "outputs": [],
   "source": [
    "losses = pd.DataFrame(model.history.history)"
   ]
  },
  {
   "cell_type": "code",
   "execution_count": 18,
   "id": "426e8123",
   "metadata": {},
   "outputs": [
    {
     "data": {
      "text/html": [
       "<div>\n",
       "<style scoped>\n",
       "    .dataframe tbody tr th:only-of-type {\n",
       "        vertical-align: middle;\n",
       "    }\n",
       "\n",
       "    .dataframe tbody tr th {\n",
       "        vertical-align: top;\n",
       "    }\n",
       "\n",
       "    .dataframe thead th {\n",
       "        text-align: right;\n",
       "    }\n",
       "</style>\n",
       "<table border=\"1\" class=\"dataframe\">\n",
       "  <thead>\n",
       "    <tr style=\"text-align: right;\">\n",
       "      <th></th>\n",
       "      <th>loss</th>\n",
       "      <th>accuracy</th>\n",
       "      <th>val_loss</th>\n",
       "      <th>val_accuracy</th>\n",
       "    </tr>\n",
       "  </thead>\n",
       "  <tbody>\n",
       "    <tr>\n",
       "      <th>0</th>\n",
       "      <td>1.301558</td>\n",
       "      <td>0.563000</td>\n",
       "      <td>0.342864</td>\n",
       "      <td>0.9054</td>\n",
       "    </tr>\n",
       "    <tr>\n",
       "      <th>1</th>\n",
       "      <td>0.244160</td>\n",
       "      <td>0.932825</td>\n",
       "      <td>0.179137</td>\n",
       "      <td>0.9505</td>\n",
       "    </tr>\n",
       "    <tr>\n",
       "      <th>2</th>\n",
       "      <td>0.138400</td>\n",
       "      <td>0.959200</td>\n",
       "      <td>0.152048</td>\n",
       "      <td>0.9579</td>\n",
       "    </tr>\n",
       "    <tr>\n",
       "      <th>3</th>\n",
       "      <td>0.087058</td>\n",
       "      <td>0.974150</td>\n",
       "      <td>0.130198</td>\n",
       "      <td>0.9643</td>\n",
       "    </tr>\n",
       "    <tr>\n",
       "      <th>4</th>\n",
       "      <td>0.062371</td>\n",
       "      <td>0.980775</td>\n",
       "      <td>0.119278</td>\n",
       "      <td>0.9675</td>\n",
       "    </tr>\n",
       "  </tbody>\n",
       "</table>\n",
       "</div>"
      ],
      "text/plain": [
       "       loss  accuracy  val_loss  val_accuracy\n",
       "0  1.301558  0.563000  0.342864        0.9054\n",
       "1  0.244160  0.932825  0.179137        0.9505\n",
       "2  0.138400  0.959200  0.152048        0.9579\n",
       "3  0.087058  0.974150  0.130198        0.9643\n",
       "4  0.062371  0.980775  0.119278        0.9675"
      ]
     },
     "execution_count": 18,
     "metadata": {},
     "output_type": "execute_result"
    }
   ],
   "source": [
    "losses.head()"
   ]
  },
  {
   "cell_type": "code",
   "execution_count": 19,
   "id": "958b23fb",
   "metadata": {},
   "outputs": [
    {
     "data": {
      "text/plain": [
       "<AxesSubplot:>"
      ]
     },
     "execution_count": 19,
     "metadata": {},
     "output_type": "execute_result"
    },
    {
     "data": {
      "image/png": "[encoded data removed]",
      "text/plain": [
       "<Figure size 432x288 with 1 Axes>"
      ]
     },
     "metadata": {
      "needs_background": "light"
     },
     "output_type": "display_data"
    }
   ],
   "source": [
    "losses[['accuracy','val_accuracy']].plot()"
   ]
  },
  {
   "cell_type": "code",
   "execution_count": 20,
   "id": "8cb022d6",
   "metadata": {},
   "outputs": [
    {
     "data": {
      "text/plain": [
       "<AxesSubplot:>"
      ]
     },
     "execution_count": 20,
     "metadata": {},
     "output_type": "execute_result"
    },
    {
     "data": {
      "image/png": "[encoded data removed]",
      "text/plain": [
       "<Figure size 432x288 with 1 Axes>"
      ]
     },
     "metadata": {
      "needs_background": "light"
     },
     "output_type": "display_data"
    }
   ],
   "source": [
    "losses[['loss','val_loss']].plot()"
   ]
  },
  {
   "cell_type": "code",
   "execution_count": 21,
   "id": "4e312f30",
   "metadata": {},
   "outputs": [
    {
     "data": {
      "text/plain": [
       "<AxesSubplot:>"
      ]
     },
     "execution_count": 21,
     "metadata": {},
     "output_type": "execute_result"
    },
    {
     "data": {
      "image/png": "[encoded data removed]",
      "text/plain": [
       "<Figure size 432x288 with 1 Axes>"
      ]
     },
     "metadata": {
      "needs_background": "light"
     },
     "output_type": "display_data"
    }
   ],
   "source": [
    "model_loss = pd.DataFrame(model.history.history)\n",
    "model_loss.plot()"
   ]
  },
  {
   "cell_type": "code",
   "execution_count": 22,
   "id": "cae480ff",
   "metadata": {},
   "outputs": [
    {
     "name": "stdout",
     "output_type": "stream",
     "text": [
      "['loss', 'accuracy']\n",
      "[0.09644673019647598, 0.9819999933242798]\n"
     ]
    }
   ],
   "source": [
    "print(model.metrics_names)\n",
    "print(model.evaluate(X_val,y_val,verbose=0))"
   ]
  },
  {
   "cell_type": "code",
   "execution_count": 23,
   "id": "5192bdfc",
   "metadata": {},
   "outputs": [],
   "source": [
    "from sklearn.metrics import classification_report,confusion_matrix"
   ]
  },
  {
   "cell_type": "code",
   "execution_count": 24,
   "id": "de5f340f",
   "metadata": {},
   "outputs": [
    {
     "name": "stdout",
     "output_type": "stream",
     "text": [
      "313/313 [==============================] - 3s 8ms/step\n"
     ]
    },
    {
     "data": {
      "text/plain": [
       "array([ 6,  1, 15, ...,  1,  2,  3], dtype=int64)"
      ]
     },
     "execution_count": 24,
     "metadata": {},
     "output_type": "execute_result"
    }
   ],
   "source": [
    "predictions = np.argmax(model.predict(X_val),axis=1)\n",
    "predictions"
   ]
  },
  {
   "cell_type": "code",
   "execution_count": 25,
   "id": "ade6af28",
   "metadata": {},
   "outputs": [
    {
     "name": "stdout",
     "output_type": "stream",
     "text": [
      "              precision    recall  f1-score   support\n",
      "\n",
      "           0       1.00      0.99      1.00       102\n",
      "           1       0.99      1.00      1.00       202\n",
      "           2       0.98      0.99      0.99       343\n",
      "           3       1.00      0.98      0.99       439\n",
      "           4       0.98      0.99      0.99       537\n",
      "           5       0.98      0.98      0.98       597\n",
      "           6       0.98      0.98      0.98       692\n",
      "           7       0.99      0.99      0.99       817\n",
      "           8       0.98      0.99      0.98       917\n",
      "           9       0.98      0.98      0.98       987\n",
      "          10       0.98      0.98      0.98       938\n",
      "          11       0.99      0.96      0.98       762\n",
      "          12       0.99      0.98      0.98       706\n",
      "          13       0.99      0.99      0.99       578\n",
      "          14       0.94      0.99      0.97       459\n",
      "          15       0.98      0.97      0.97       367\n",
      "          16       1.00      0.97      0.98       292\n",
      "          17       0.99      0.97      0.98       190\n",
      "          18       0.97      0.96      0.97        75\n",
      "\n",
      "    accuracy                           0.98     10000\n",
      "   macro avg       0.98      0.98      0.98     10000\n",
      "weighted avg       0.98      0.98      0.98     10000\n",
      "\n"
     ]
    }
   ],
   "source": [
    "print(classification_report(val_y,predictions))"
   ]
  },
  {
   "cell_type": "code",
   "execution_count": 26,
   "id": "bdf6f774",
   "metadata": {},
   "outputs": [
    {
     "data": {
      "text/plain": [
       "array([[101,   0,   0,   0,   1,   0,   0,   0,   0,   0,   0,   0,   0,\n",
       "          0,   0,   0,   0,   0,   0],\n",
       "       [  0, 202,   0,   0,   0,   0,   0,   0,   0,   0,   0,   0,   0,\n",
       "          0,   0,   0,   0,   0,   0],\n",
       "       [  0,   1, 341,   0,   0,   0,   0,   1,   0,   0,   0,   0,   0,\n",
       "          0,   0,   0,   0,   0,   0],\n",
       "       [  0,   1,   3, 432,   0,   0,   0,   1,   1,   1,   0,   0,   0,\n",
       "          0,   0,   0,   0,   0,   0],\n",
       "       [  0,   0,   2,   1, 533,   0,   0,   0,   0,   0,   1,   0,   0,\n",
       "          0,   0,   0,   0,   0,   0],\n",
       "       [  0,   0,   0,   0,   2, 583,   3,   1,   3,   2,   2,   1,   0,\n",
       "          0,   0,   0,   0,   0,   0],\n",
       "       [  0,   0,   0,   0,   2,   4, 677,   1,   2,   1,   3,   0,   0,\n",
       "          0,   1,   1,   0,   0,   0],\n",
       "       [  0,   0,   3,   0,   0,   1,   3, 806,   2,   2,   0,   0,   0,\n",
       "          0,   0,   0,   0,   0,   0],\n",
       "       [  0,   0,   0,   1,   0,   0,   2,   1, 905,   2,   1,   0,   0,\n",
       "          1,   4,   0,   0,   0,   0],\n",
       "       [  0,   0,   0,   0,   3,   0,   0,   0,   7, 969,   0,   1,   1,\n",
       "          0,   4,   1,   0,   0,   1],\n",
       "       [  0,   0,   0,   0,   2,   4,   0,   2,   1,   3, 920,   0,   2,\n",
       "          1,   1,   1,   1,   0,   0],\n",
       "       [  0,   0,   0,   0,   0,   3,   4,   1,   2,   5,   5, 735,   0,\n",
       "          0,   6,   1,   0,   0,   0],\n",
       "       [  0,   0,   0,   0,   0,   0,   0,   2,   1,   1,   3,   2, 692,\n",
       "          2,   1,   2,   0,   0,   0],\n",
       "       [  0,   0,   0,   0,   0,   0,   0,   0,   2,   0,   0,   0,   2,\n",
       "        572,   2,   0,   0,   0,   0],\n",
       "       [  0,   0,   0,   0,   0,   0,   0,   0,   1,   1,   0,   0,   1,\n",
       "          1, 455,   0,   0,   0,   0],\n",
       "       [  0,   0,   0,   0,   0,   0,   0,   0,   0,   1,   3,   0,   1,\n",
       "          0,   3, 357,   0,   2,   0],\n",
       "       [  0,   0,   0,   0,   0,   0,   0,   0,   0,   0,   1,   2,   0,\n",
       "          0,   3,   2, 284,   0,   0],\n",
       "       [  0,   0,   0,   0,   0,   0,   0,   0,   1,   0,   0,   0,   1,\n",
       "          0,   2,   1,   0, 184,   1],\n",
       "       [  0,   0,   0,   0,   0,   0,   0,   0,   0,   1,   0,   0,   0,\n",
       "          0,   2,   0,   0,   0,  72]], dtype=int64)"
      ]
     },
     "execution_count": 26,
     "metadata": {},
     "output_type": "execute_result"
    }
   ],
   "source": [
    "confusion_matrix = confusion_matrix(val_y,predictions)\n",
    "confusion_matrix"
   ]
  },
  {
   "cell_type": "code",
   "execution_count": 27,
   "id": "8ceea170",
   "metadata": {},
   "outputs": [
    {
     "name": "stdout",
     "output_type": "stream",
     "text": [
      "sum_preds               : 10000\n",
      "sum_correct_predictions : 9820\n",
      "sum_wrong_predictions   : 180\n",
      "misclassification_error : 0.018000000000000016\n"
     ]
    }
   ],
   "source": [
    "#misclassification_error(confusion_matrix):\n",
    "sum_preds = np.sum(confusion_matrix)\n",
    "sum_correct = np.sum(np.diag(confusion_matrix))\n",
    "misclassification_error = 1.0 - (float(sum_correct) / float(sum_preds))\n",
    "    \n",
    "print(\"sum_preds               :\", int(sum_preds)) \n",
    "print(\"sum_correct_predictions :\", int(sum_correct)) \n",
    "print(\"sum_wrong_predictions   :\", int(sum_preds - sum_correct))\n",
    "print(\"misclassification_error :\", misclassification_error)"
   ]
  },
  {
   "cell_type": "code",
   "execution_count": 28,
   "id": "b7bb4f94",
   "metadata": {},
   "outputs": [
    {
     "data": {
      "text/plain": [
       "<matplotlib.image.AxesImage at 0x1d95fe84c10>"
      ]
     },
     "execution_count": 28,
     "metadata": {},
     "output_type": "execute_result"
    },
    {
     "data": {
      "image/png": "[encoded data removed]",
      "text/plain": [
       "<Figure size 432x288 with 1 Axes>"
      ]
     },
     "metadata": {
      "needs_background": "light"
     },
     "output_type": "display_data"
    }
   ],
   "source": [
    "my_number = X_val[999]\n",
    "plt.imshow(my_number)"
   ]
  },
  {
   "cell_type": "code",
   "execution_count": 29,
   "id": "494530f7",
   "metadata": {},
   "outputs": [
    {
     "name": "stdout",
     "output_type": "stream",
     "text": [
      "1/1 [==============================] - 0s 22ms/step\n",
      "[11]\n"
     ]
    }
   ],
   "source": [
    "# SHAPE --> (num_images,width,height,color_channels)\n",
    "#model.predict_classes(my_number.reshape(1,28,56,1))\n",
    "\n",
    "predict_x=model.predict(my_number.reshape(1,28,56,1)) \n",
    "classes_x=np.argmax(predict_x,axis=1)\n",
    "print(classes_x)"
   ]
  },
  {
   "cell_type": "code",
   "execution_count": 30,
   "id": "e091eb5c",
   "metadata": {},
   "outputs": [
    {
     "name": "stdout",
     "output_type": "stream",
     "text": [
      "\n",
      "\n",
      "Test Predictions\n",
      "313/313 [==============================] - 3s 9ms/step\n",
      "[14  7 10 ... 10  4  6]\n",
      "10000\n",
      "<class 'numpy.ndarray'>\n"
     ]
    },
    {
     "data": {
      "text/html": [
       "<div>\n",
       "<style scoped>\n",
       "    .dataframe tbody tr th:only-of-type {\n",
       "        vertical-align: middle;\n",
       "    }\n",
       "\n",
       "    .dataframe tbody tr th {\n",
       "        vertical-align: top;\n",
       "    }\n",
       "\n",
       "    .dataframe thead th {\n",
       "        text-align: right;\n",
       "    }\n",
       "</style>\n",
       "<table border=\"1\" class=\"dataframe\">\n",
       "  <thead>\n",
       "    <tr style=\"text-align: right;\">\n",
       "      <th></th>\n",
       "      <th>Class</th>\n",
       "    </tr>\n",
       "    <tr>\n",
       "      <th>Index</th>\n",
       "      <th></th>\n",
       "    </tr>\n",
       "  </thead>\n",
       "  <tbody>\n",
       "    <tr>\n",
       "      <th>0</th>\n",
       "      <td>14</td>\n",
       "    </tr>\n",
       "    <tr>\n",
       "      <th>1</th>\n",
       "      <td>7</td>\n",
       "    </tr>\n",
       "    <tr>\n",
       "      <th>2</th>\n",
       "      <td>10</td>\n",
       "    </tr>\n",
       "    <tr>\n",
       "      <th>3</th>\n",
       "      <td>7</td>\n",
       "    </tr>\n",
       "    <tr>\n",
       "      <th>4</th>\n",
       "      <td>5</td>\n",
       "    </tr>\n",
       "    <tr>\n",
       "      <th>...</th>\n",
       "      <td>...</td>\n",
       "    </tr>\n",
       "    <tr>\n",
       "      <th>9995</th>\n",
       "      <td>7</td>\n",
       "    </tr>\n",
       "    <tr>\n",
       "      <th>9996</th>\n",
       "      <td>12</td>\n",
       "    </tr>\n",
       "    <tr>\n",
       "      <th>9997</th>\n",
       "      <td>10</td>\n",
       "    </tr>\n",
       "    <tr>\n",
       "      <th>9998</th>\n",
       "      <td>4</td>\n",
       "    </tr>\n",
       "    <tr>\n",
       "      <th>9999</th>\n",
       "      <td>6</td>\n",
       "    </tr>\n",
       "  </tbody>\n",
       "</table>\n",
       "<p>10000 rows × 1 columns</p>\n",
       "</div>"
      ],
      "text/plain": [
       "       Class\n",
       "Index       \n",
       "0         14\n",
       "1          7\n",
       "2         10\n",
       "3          7\n",
       "4          5\n",
       "...      ...\n",
       "9995       7\n",
       "9996      12\n",
       "9997      10\n",
       "9998       4\n",
       "9999       6\n",
       "\n",
       "[10000 rows x 1 columns]"
      ]
     },
     "execution_count": 30,
     "metadata": {},
     "output_type": "execute_result"
    }
   ],
   "source": [
    "print('\\n')\n",
    "print(\"Test Predictions\")\n",
    "test_predictions =  np.argmax(model.predict(X_test),axis=1)\n",
    "print(test_predictions)\n",
    "print(len(test_predictions))\n",
    "print(type(test_predictions))\n",
    "df = pd.DataFrame(test_predictions)\n",
    "df.index.name= 'Index'\n",
    "df.columns = ['Class']\n",
    "file_name = f'test_predictions_cnn_model4.csv'\n",
    "df.to_csv(file_name, index=True)\n",
    "df"
   ]
  }
 ],
 "metadata": {
  "kernelspec": {
   "display_name": "Python 3 (ipykernel)",
   "language": "python",
   "name": "python3"
  },
  "language_info": {
   "codemirror_mode": {
    "name": "ipython",
    "version": 3
   },
   "file_extension": ".py",
   "mimetype": "text/x-python",
   "name": "python",
   "nbconvert_exporter": "python",
   "pygments_lexer": "ipython3",
   "version": "3.9.12"
  }
 },
 "nbformat": 4,
 "nbformat_minor": 5
}
