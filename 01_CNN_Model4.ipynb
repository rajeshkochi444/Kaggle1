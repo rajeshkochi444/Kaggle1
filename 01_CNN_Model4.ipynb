{
 "cells": [
  {
   "cell_type": "code",
   "execution_count": 1,
   "id": "af1cdfb1",
   "metadata": {},
   "outputs": [],
   "source": [
    "from matplotlib import pyplot as plt\n",
    "import numpy as np\n",
    "import pandas as pd\n",
    "from sklearn.model_selection import train_test_split"
   ]
  },
  {
   "cell_type": "code",
   "execution_count": 2,
   "id": "57c0ffe8",
   "metadata": {},
   "outputs": [
    {
     "name": "stdout",
     "output_type": "stream",
     "text": [
      "(50000,)\n",
      "(50000, 1568)\n",
      "(10000, 1568)\n"
     ]
    }
   ],
   "source": [
    "#Data loading and pre-processing\n",
    "train_X = pd.read_csv('train.csv')\n",
    "test_X = pd.read_csv('test.csv' )\n",
    "train_X.drop(train_X.columns[train_X.columns.str.contains('unnamed',case = False)],axis = 1, inplace = True)\n",
    "test_X.drop(test_X.columns[test_X.columns.str.contains('unnamed',case = False)],axis = 1, inplace = True)\n",
    "\n",
    "train_result = pd.read_csv('train_result.csv')\n",
    "train_y_class = train_result['Class']\n",
    "\n",
    "#converting into numpy arrays\n",
    "X_train = train_X.to_numpy()\n",
    "X_test = test_X.to_numpy()\n",
    "train_y = train_y_class.to_numpy()\n",
    "\n",
    "print(train_y.shape)\n",
    "print(X_train.shape)\n",
    "print(X_test.shape)"
   ]
  },
  {
   "cell_type": "code",
   "execution_count": 3,
   "id": "40661cde",
   "metadata": {},
   "outputs": [],
   "source": [
    "#Train and Validation Splits\n",
    "X_train, X_val, train_y, val_y = train_test_split(X_train, train_y,  test_size=0.20, random_state=101)"
   ]
  },
  {
   "cell_type": "code",
   "execution_count": 4,
   "id": "621912de",
   "metadata": {},
   "outputs": [
    {
     "name": "stdout",
     "output_type": "stream",
     "text": [
      "(40000, 1568)\n",
      "(10000, 1568)\n",
      "(40000,)\n",
      "(10000,)\n"
     ]
    }
   ],
   "source": [
    "print(X_train.shape)\n",
    "print(X_val.shape)\n",
    "print(train_y.shape)\n",
    "print(val_y.shape)"
   ]
  },
  {
   "cell_type": "code",
   "execution_count": 5,
   "id": "06f9efca",
   "metadata": {},
   "outputs": [],
   "source": [
    "#One hot encoding \n",
    "from tensorflow.keras.utils import to_categorical\n",
    "c = len(np.unique(train_y))\n",
    "y_train = to_categorical(train_y,c)\n",
    "y_val = to_categorical(val_y,c)"
   ]
  },
  {
   "cell_type": "code",
   "execution_count": 6,
   "id": "e908b74a",
   "metadata": {},
   "outputs": [
    {
     "data": {
      "text/plain": [
       "array([[0., 0., 0., ..., 0., 0., 0.],\n",
       "       [0., 1., 0., ..., 0., 0., 0.],\n",
       "       [0., 0., 0., ..., 0., 0., 0.],\n",
       "       ...,\n",
       "       [0., 1., 0., ..., 0., 0., 0.],\n",
       "       [0., 0., 1., ..., 0., 0., 0.],\n",
       "       [0., 0., 0., ..., 0., 0., 0.]], dtype=float32)"
      ]
     },
     "execution_count": 6,
     "metadata": {},
     "output_type": "execute_result"
    }
   ],
   "source": [
    "#y_train\n",
    "y_val"
   ]
  },
  {
   "cell_type": "code",
   "execution_count": 7,
   "id": "b99ddc0c",
   "metadata": {},
   "outputs": [
    {
     "name": "stdout",
     "output_type": "stream",
     "text": [
      "(40000, 28, 56, 1)\n",
      "(10000, 28, 56, 1)\n",
      "(10000, 28, 56, 1)\n"
     ]
    }
   ],
   "source": [
    "#Resharing into (28,56,1) feature dimensions\n",
    "# SHAPE --> (num_images,width,height,color_channels)\n",
    "X_train = X_train.reshape(40000, 28, 56, 1)\n",
    "X_val = X_val.reshape(10000, 28, 56, 1)\n",
    "X_test = X_test.reshape(10000, 28, 56, 1)\n",
    "print(X_train.shape)\n",
    "print(X_val.shape)\n",
    "print(X_test.shape)"
   ]
  },
  {
   "cell_type": "code",
   "execution_count": 8,
   "id": "f3b0fff4",
   "metadata": {},
   "outputs": [
    {
     "data": {
      "text/plain": [
       "<matplotlib.image.AxesImage at 0x13aa17f02e0>"
      ]
     },
     "execution_count": 8,
     "metadata": {},
     "output_type": "execute_result"
    },
    {
     "data": {
      "image/png": "[encoded data removed]",
      "text/plain": [
       "<Figure size 432x288 with 1 Axes>"
      ]
     },
     "metadata": {
      "needs_background": "light"
     },
     "output_type": "display_data"
    }
   ],
   "source": [
    "single_image = X_train[0]\n",
    "plt.imshow(single_image)"
   ]
  },
  {
   "cell_type": "code",
   "execution_count": 9,
   "id": "1969245e",
   "metadata": {},
   "outputs": [],
   "source": [
    "from tensorflow.keras.models import Sequential\n",
    "from tensorflow.keras.layers import Dense, Conv2D, MaxPool2D, Flatten,BatchNormalization"
   ]
  },
  {
   "cell_type": "code",
   "execution_count": 10,
   "id": "374cddb2",
   "metadata": {},
   "outputs": [],
   "source": [
    "#CNN Model\n",
    "model = Sequential()\n",
    "\n",
    "model.add(Conv2D(filters=64, kernel_size = (3,3), activation=\"relu\", input_shape=(28, 56, 1)))\n",
    "model.add(Conv2D(filters=64, kernel_size = (3,3), activation=\"relu\"))\n",
    "model.add(MaxPool2D(pool_size=(2,2)))\n",
    "model.add(BatchNormalization())\n",
    "\n",
    "model.add(Conv2D(filters=128, kernel_size = (3,3), activation=\"relu\"))\n",
    "model.add(Conv2D(filters=128, kernel_size = (3,3), activation=\"relu\"))\n",
    "model.add(MaxPool2D(pool_size=(2,2)))\n",
    "model.add(BatchNormalization())    \n",
    "\n",
    "model.add(Conv2D(filters=256, kernel_size = (3,3), activation=\"relu\"))\n",
    "model.add(MaxPool2D(pool_size=(2,2)))\n",
    "model.add(BatchNormalization())\n",
    "    \n",
    "model.add(Flatten())\n",
    "model.add(Dense(512,activation=\"relu\"))\n",
    "    \n",
    "# LAST LAYER IS THE CLASSIFIER, THUS 10 POSSIBLE CLASSES\n",
    "model.add(Dense(19, activation='softmax'))\n",
    "\n",
    "# https://keras.io/metrics/\n",
    "model.compile(loss='categorical_crossentropy',\n",
    "              optimizer='adam',\n",
    "              metrics=['accuracy']) # we can add in additional metrics https://keras.io/metrics/"
   ]
  },
  {
   "cell_type": "code",
   "execution_count": 11,
   "id": "1f078c3d",
   "metadata": {},
   "outputs": [
    {
     "name": "stdout",
     "output_type": "stream",
     "text": [
      "Model: \"sequential\"\n",
      "_________________________________________________________________\n",
      " Layer (type)                Output Shape              Param #   \n",
      "=================================================================\n",
      " conv2d (Conv2D)             (None, 26, 54, 64)        640       \n",
      "                                                                 \n",
      " conv2d_1 (Conv2D)           (None, 24, 52, 64)        36928     \n",
      "                                                                 \n",
      " max_pooling2d (MaxPooling2D  (None, 12, 26, 64)       0         \n",
      " )                                                               \n",
      "                                                                 \n",
      " batch_normalization (BatchN  (None, 12, 26, 64)       256       \n",
      " ormalization)                                                   \n",
      "                                                                 \n",
      " conv2d_2 (Conv2D)           (None, 10, 24, 128)       73856     \n",
      "                                                                 \n",
      " conv2d_3 (Conv2D)           (None, 8, 22, 128)        147584    \n",
      "                                                                 \n",
      " max_pooling2d_1 (MaxPooling  (None, 4, 11, 128)       0         \n",
      " 2D)                                                             \n",
      "                                                                 \n",
      " batch_normalization_1 (Batc  (None, 4, 11, 128)       512       \n",
      " hNormalization)                                                 \n",
      "                                                                 \n",
      " conv2d_4 (Conv2D)           (None, 2, 9, 256)         295168    \n",
      "                                                                 \n",
      " max_pooling2d_2 (MaxPooling  (None, 1, 4, 256)        0         \n",
      " 2D)                                                             \n",
      "                                                                 \n",
      " batch_normalization_2 (Batc  (None, 1, 4, 256)        1024      \n",
      " hNormalization)                                                 \n",
      "                                                                 \n",
      " flatten (Flatten)           (None, 1024)              0         \n",
      "                                                                 \n",
      " dense (Dense)               (None, 512)               524800    \n",
      "                                                                 \n",
      " dense_1 (Dense)             (None, 19)                9747      \n",
      "                                                                 \n",
      "=================================================================\n",
      "Total params: 1,090,515\n",
      "Trainable params: 1,089,619\n",
      "Non-trainable params: 896\n",
      "_________________________________________________________________\n"
     ]
    }
   ],
   "source": [
    "model.summary()"
   ]
  },
  {
   "cell_type": "code",
   "execution_count": 12,
   "id": "5f72c031",
   "metadata": {},
   "outputs": [],
   "source": [
    "from tensorflow.keras.callbacks import EarlyStopping"
   ]
  },
  {
   "cell_type": "code",
   "execution_count": 13,
   "id": "d369fb9b",
   "metadata": {},
   "outputs": [],
   "source": [
    "early_stop = EarlyStopping(monitor='val_loss',patience=10)"
   ]
  },
  {
   "cell_type": "code",
   "execution_count": 14,
   "id": "f444ec1d",
   "metadata": {},
   "outputs": [
    {
     "name": "stdout",
     "output_type": "stream",
     "text": [
      "(40000, 28, 56, 1)\n",
      "(10000, 28, 56, 1)\n",
      "(40000, 19)\n",
      "(10000, 19)\n"
     ]
    }
   ],
   "source": [
    "print(X_train.shape)\n",
    "print(X_val.shape)\n",
    "print(y_train.shape)\n",
    "print(y_val.shape)"
   ]
  },
  {
   "cell_type": "code",
   "execution_count": 15,
   "id": "4997ebb7",
   "metadata": {},
   "outputs": [
    {
     "name": "stdout",
     "output_type": "stream",
     "text": [
      "Epoch 1/100\n",
      "313/313 [==============================] - 198s 628ms/step - loss: 0.8127 - accuracy: 0.7452 - val_loss: 6.8377 - val_accuracy: 0.0461\n",
      "Epoch 2/100\n",
      "313/313 [==============================] - 180s 575ms/step - loss: 0.0867 - accuracy: 0.9746 - val_loss: 0.1445 - val_accuracy: 0.9542\n",
      "Epoch 3/100\n",
      "313/313 [==============================] - 174s 557ms/step - loss: 0.0377 - accuracy: 0.9886 - val_loss: 0.0811 - val_accuracy: 0.9772\n",
      "Epoch 4/100\n",
      "313/313 [==============================] - 173s 553ms/step - loss: 0.0243 - accuracy: 0.9927 - val_loss: 0.0707 - val_accuracy: 0.9778\n",
      "Epoch 5/100\n",
      "313/313 [==============================] - 176s 564ms/step - loss: 0.0213 - accuracy: 0.9933 - val_loss: 0.0935 - val_accuracy: 0.9746\n",
      "Epoch 6/100\n",
      "313/313 [==============================] - 173s 553ms/step - loss: 0.0230 - accuracy: 0.9928 - val_loss: 0.0948 - val_accuracy: 0.9738\n",
      "Epoch 7/100\n",
      "313/313 [==============================] - 177s 566ms/step - loss: 0.0206 - accuracy: 0.9933 - val_loss: 0.0739 - val_accuracy: 0.9808\n",
      "Epoch 8/100\n",
      "313/313 [==============================] - 188s 601ms/step - loss: 0.0265 - accuracy: 0.9920 - val_loss: 0.0894 - val_accuracy: 0.9799\n",
      "Epoch 9/100\n",
      "313/313 [==============================] - 179s 572ms/step - loss: 0.0178 - accuracy: 0.9951 - val_loss: 0.0504 - val_accuracy: 0.9874\n",
      "Epoch 10/100\n",
      "313/313 [==============================] - 184s 587ms/step - loss: 0.0137 - accuracy: 0.9959 - val_loss: 0.1108 - val_accuracy: 0.9750\n",
      "Epoch 11/100\n",
      "313/313 [==============================] - 182s 582ms/step - loss: 0.0209 - accuracy: 0.9934 - val_loss: 0.0725 - val_accuracy: 0.9840\n",
      "Epoch 12/100\n",
      "313/313 [==============================] - 192s 613ms/step - loss: 0.0169 - accuracy: 0.9949 - val_loss: 0.0764 - val_accuracy: 0.9840\n",
      "Epoch 13/100\n",
      "313/313 [==============================] - 186s 593ms/step - loss: 0.0102 - accuracy: 0.9969 - val_loss: 0.0474 - val_accuracy: 0.9875\n",
      "Epoch 14/100\n",
      "313/313 [==============================] - 184s 589ms/step - loss: 0.0069 - accuracy: 0.9980 - val_loss: 0.0707 - val_accuracy: 0.9848\n",
      "Epoch 15/100\n",
      "313/313 [==============================] - 183s 585ms/step - loss: 0.0123 - accuracy: 0.9965 - val_loss: 0.0724 - val_accuracy: 0.9840\n",
      "Epoch 16/100\n",
      "313/313 [==============================] - 180s 575ms/step - loss: 0.0220 - accuracy: 0.9937 - val_loss: 0.0647 - val_accuracy: 0.9855\n",
      "Epoch 17/100\n",
      "313/313 [==============================] - 188s 602ms/step - loss: 0.0081 - accuracy: 0.9973 - val_loss: 0.0911 - val_accuracy: 0.9795\n",
      "Epoch 18/100\n",
      "313/313 [==============================] - 179s 572ms/step - loss: 0.0080 - accuracy: 0.9974 - val_loss: 0.0618 - val_accuracy: 0.9873\n",
      "Epoch 19/100\n",
      "313/313 [==============================] - 179s 570ms/step - loss: 0.0086 - accuracy: 0.9977 - val_loss: 0.0478 - val_accuracy: 0.9893\n",
      "Epoch 20/100\n",
      "313/313 [==============================] - 180s 574ms/step - loss: 0.0069 - accuracy: 0.9979 - val_loss: 0.1532 - val_accuracy: 0.9713\n",
      "Epoch 21/100\n",
      "313/313 [==============================] - 190s 606ms/step - loss: 0.0187 - accuracy: 0.9948 - val_loss: 0.0926 - val_accuracy: 0.9830\n",
      "Epoch 22/100\n",
      "313/313 [==============================] - 203s 648ms/step - loss: 0.0105 - accuracy: 0.9970 - val_loss: 0.0558 - val_accuracy: 0.9898\n",
      "Epoch 23/100\n",
      "313/313 [==============================] - 173s 552ms/step - loss: 0.0058 - accuracy: 0.9983 - val_loss: 0.0652 - val_accuracy: 0.9863\n"
     ]
    },
    {
     "data": {
      "text/plain": [
       "<keras.callbacks.History at 0x13ac2b80dc0>"
      ]
     },
     "execution_count": 15,
     "metadata": {},
     "output_type": "execute_result"
    }
   ],
   "source": [
    "#epochs=100\n",
    "#model.fit(X_train,y_train,epochs=epochs,validation_data=(X_val, y_val),callbacks=[early_stop])\n",
    "\n",
    "model.fit(X_train, y_train, batch_size=128, epochs=100, validation_data=(X_val, y_val), callbacks=[early_stop] )"
   ]
  },
  {
   "cell_type": "code",
   "execution_count": 16,
   "id": "a1374685",
   "metadata": {},
   "outputs": [
    {
     "data": {
      "text/plain": [
       "['loss', 'accuracy']"
      ]
     },
     "execution_count": 16,
     "metadata": {},
     "output_type": "execute_result"
    }
   ],
   "source": [
    "model.metrics_names"
   ]
  },
  {
   "cell_type": "code",
   "execution_count": 17,
   "id": "99d0357f",
   "metadata": {},
   "outputs": [],
   "source": [
    "losses = pd.DataFrame(model.history.history)"
   ]
  },
  {
   "cell_type": "code",
   "execution_count": 18,
   "id": "426e8123",
   "metadata": {},
   "outputs": [
    {
     "data": {
      "text/html": [
       "<div>\n",
       "<style scoped>\n",
       "    .dataframe tbody tr th:only-of-type {\n",
       "        vertical-align: middle;\n",
       "    }\n",
       "\n",
       "    .dataframe tbody tr th {\n",
       "        vertical-align: top;\n",
       "    }\n",
       "\n",
       "    .dataframe thead th {\n",
       "        text-align: right;\n",
       "    }\n",
       "</style>\n",
       "<table border=\"1\" class=\"dataframe\">\n",
       "  <thead>\n",
       "    <tr style=\"text-align: right;\">\n",
       "      <th></th>\n",
       "      <th>loss</th>\n",
       "      <th>accuracy</th>\n",
       "      <th>val_loss</th>\n",
       "      <th>val_accuracy</th>\n",
       "    </tr>\n",
       "  </thead>\n",
       "  <tbody>\n",
       "    <tr>\n",
       "      <th>0</th>\n",
       "      <td>0.812678</td>\n",
       "      <td>0.745225</td>\n",
       "      <td>6.837706</td>\n",
       "      <td>0.0461</td>\n",
       "    </tr>\n",
       "    <tr>\n",
       "      <th>1</th>\n",
       "      <td>0.086687</td>\n",
       "      <td>0.974550</td>\n",
       "      <td>0.144460</td>\n",
       "      <td>0.9542</td>\n",
       "    </tr>\n",
       "    <tr>\n",
       "      <th>2</th>\n",
       "      <td>0.037655</td>\n",
       "      <td>0.988575</td>\n",
       "      <td>0.081142</td>\n",
       "      <td>0.9772</td>\n",
       "    </tr>\n",
       "    <tr>\n",
       "      <th>3</th>\n",
       "      <td>0.024322</td>\n",
       "      <td>0.992675</td>\n",
       "      <td>0.070669</td>\n",
       "      <td>0.9778</td>\n",
       "    </tr>\n",
       "    <tr>\n",
       "      <th>4</th>\n",
       "      <td>0.021329</td>\n",
       "      <td>0.993275</td>\n",
       "      <td>0.093473</td>\n",
       "      <td>0.9746</td>\n",
       "    </tr>\n",
       "  </tbody>\n",
       "</table>\n",
       "</div>"
      ],
      "text/plain": [
       "       loss  accuracy  val_loss  val_accuracy\n",
       "0  0.812678  0.745225  6.837706        0.0461\n",
       "1  0.086687  0.974550  0.144460        0.9542\n",
       "2  0.037655  0.988575  0.081142        0.9772\n",
       "3  0.024322  0.992675  0.070669        0.9778\n",
       "4  0.021329  0.993275  0.093473        0.9746"
      ]
     },
     "execution_count": 18,
     "metadata": {},
     "output_type": "execute_result"
    }
   ],
   "source": [
    "losses.head()"
   ]
  },
  {
   "cell_type": "code",
   "execution_count": 19,
   "id": "958b23fb",
   "metadata": {},
   "outputs": [
    {
     "data": {
      "text/plain": [
       "<AxesSubplot:>"
      ]
     },
     "execution_count": 19,
     "metadata": {},
     "output_type": "execute_result"
    },
    {
     "data": {
      "image/png": "[encoded data removed]",
      "text/plain": [
       "<Figure size 432x288 with 1 Axes>"
      ]
     },
     "metadata": {
      "needs_background": "light"
     },
     "output_type": "display_data"
    }
   ],
   "source": [
    "losses[['accuracy','val_accuracy']].plot()"
   ]
  },
  {
   "cell_type": "code",
   "execution_count": 20,
   "id": "8cb022d6",
   "metadata": {},
   "outputs": [
    {
     "data": {
      "text/plain": [
       "<AxesSubplot:>"
      ]
     },
     "execution_count": 20,
     "metadata": {},
     "output_type": "execute_result"
    },
    {
     "data": {
      "image/png": "[encoded data removed]",
      "text/plain": [
       "<Figure size 432x288 with 1 Axes>"
      ]
     },
     "metadata": {
      "needs_background": "light"
     },
     "output_type": "display_data"
    }
   ],
   "source": [
    "losses[['loss','val_loss']].plot()"
   ]
  },
  {
   "cell_type": "code",
   "execution_count": 21,
   "id": "4e312f30",
   "metadata": {},
   "outputs": [
    {
     "data": {
      "text/plain": [
       "<AxesSubplot:>"
      ]
     },
     "execution_count": 21,
     "metadata": {},
     "output_type": "execute_result"
    },
    {
     "data": {
      "image/png": "[encoded data removed]",
      "text/plain": [
       "<Figure size 432x288 with 1 Axes>"
      ]
     },
     "metadata": {
      "needs_background": "light"
     },
     "output_type": "display_data"
    }
   ],
   "source": [
    "model_loss = pd.DataFrame(model.history.history)\n",
    "model_loss.plot()"
   ]
  },
  {
   "cell_type": "code",
   "execution_count": 22,
   "id": "cae480ff",
   "metadata": {},
   "outputs": [
    {
     "name": "stdout",
     "output_type": "stream",
     "text": [
      "['loss', 'accuracy']\n",
      "[0.06517006456851959, 0.986299991607666]\n"
     ]
    }
   ],
   "source": [
    "print(model.metrics_names)\n",
    "print(model.evaluate(X_val,y_val,verbose=0))"
   ]
  },
  {
   "cell_type": "code",
   "execution_count": 23,
   "id": "5192bdfc",
   "metadata": {},
   "outputs": [],
   "source": [
    "from sklearn.metrics import classification_report,confusion_matrix"
   ]
  },
  {
   "cell_type": "code",
   "execution_count": 24,
   "id": "de5f340f",
   "metadata": {},
   "outputs": [
    {
     "name": "stdout",
     "output_type": "stream",
     "text": [
      "313/313 [==============================] - 9s 28ms/step\n"
     ]
    },
    {
     "data": {
      "text/plain": [
       "array([ 6,  1, 15, ...,  1,  2,  3], dtype=int64)"
      ]
     },
     "execution_count": 24,
     "metadata": {},
     "output_type": "execute_result"
    }
   ],
   "source": [
    "#Predictions on validation set\n",
    "predictions = np.argmax(model.predict(X_val),axis=1)\n",
    "predictions"
   ]
  },
  {
   "cell_type": "code",
   "execution_count": 25,
   "id": "ade6af28",
   "metadata": {},
   "outputs": [
    {
     "name": "stdout",
     "output_type": "stream",
     "text": [
      "              precision    recall  f1-score   support\n",
      "\n",
      "           0       1.00      0.99      1.00       102\n",
      "           1       0.99      1.00      1.00       202\n",
      "           2       1.00      0.99      0.99       343\n",
      "           3       1.00      0.98      0.99       439\n",
      "           4       0.99      0.99      0.99       537\n",
      "           5       0.98      0.99      0.99       597\n",
      "           6       0.98      0.99      0.99       692\n",
      "           7       1.00      0.99      0.99       817\n",
      "           8       0.97      0.99      0.98       917\n",
      "           9       1.00      0.98      0.99       987\n",
      "          10       0.99      0.98      0.99       938\n",
      "          11       0.98      0.99      0.99       762\n",
      "          12       0.99      0.98      0.99       706\n",
      "          13       0.98      0.99      0.99       578\n",
      "          14       0.97      0.99      0.98       459\n",
      "          15       0.98      0.99      0.98       367\n",
      "          16       0.97      0.98      0.97       292\n",
      "          17       0.98      0.96      0.97       190\n",
      "          18       0.97      0.99      0.98        75\n",
      "\n",
      "    accuracy                           0.99     10000\n",
      "   macro avg       0.99      0.99      0.99     10000\n",
      "weighted avg       0.99      0.99      0.99     10000\n",
      "\n"
     ]
    }
   ],
   "source": [
    "print(classification_report(val_y,predictions))"
   ]
  },
  {
   "cell_type": "code",
   "execution_count": 26,
   "id": "bdf6f774",
   "metadata": {},
   "outputs": [
    {
     "data": {
      "text/plain": [
       "array([[101,   0,   0,   0,   0,   0,   1,   0,   0,   0,   0,   0,   0,\n",
       "          0,   0,   0,   0,   0,   0],\n",
       "       [  0, 202,   0,   0,   0,   0,   0,   0,   0,   0,   0,   0,   0,\n",
       "          0,   0,   0,   0,   0,   0],\n",
       "       [  0,   1, 338,   0,   0,   0,   0,   2,   2,   0,   0,   0,   0,\n",
       "          0,   0,   0,   0,   0,   0],\n",
       "       [  0,   0,   0, 430,   0,   5,   0,   0,   3,   0,   0,   1,   0,\n",
       "          0,   0,   0,   0,   0,   0],\n",
       "       [  0,   0,   0,   1, 534,   1,   1,   0,   0,   0,   0,   0,   0,\n",
       "          0,   0,   0,   0,   0,   0],\n",
       "       [  0,   0,   0,   0,   0, 592,   2,   0,   0,   0,   1,   1,   0,\n",
       "          1,   0,   0,   0,   0,   0],\n",
       "       [  0,   0,   0,   0,   0,   1, 687,   0,   2,   0,   0,   1,   0,\n",
       "          0,   1,   0,   0,   0,   0],\n",
       "       [  0,   1,   1,   0,   1,   0,   1, 808,   3,   0,   1,   0,   1,\n",
       "          0,   0,   0,   0,   0,   0],\n",
       "       [  0,   0,   0,   0,   0,   1,   1,   0, 906,   0,   2,   0,   0,\n",
       "          4,   2,   0,   1,   0,   0],\n",
       "       [  0,   0,   0,   1,   4,   0,   2,   0,   4, 970,   0,   4,   0,\n",
       "          0,   0,   2,   0,   0,   0],\n",
       "       [  0,   0,   0,   0,   0,   2,   1,   0,   3,   0, 922,   1,   2,\n",
       "          0,   1,   3,   3,   0,   0],\n",
       "       [  0,   0,   0,   0,   0,   0,   1,   0,   2,   0,   2, 752,   0,\n",
       "          0,   1,   1,   3,   0,   0],\n",
       "       [  0,   0,   0,   0,   0,   0,   2,   1,   2,   2,   4,   1, 690,\n",
       "          0,   2,   0,   0,   2,   0],\n",
       "       [  0,   0,   0,   0,   0,   1,   0,   0,   2,   0,   0,   0,   0,\n",
       "        572,   1,   1,   0,   0,   1],\n",
       "       [  0,   0,   0,   0,   0,   0,   0,   1,   2,   0,   0,   2,   0,\n",
       "          0, 453,   0,   1,   0,   0],\n",
       "       [  0,   0,   0,   0,   0,   0,   0,   0,   0,   0,   0,   0,   0,\n",
       "          1,   2, 363,   1,   0,   0],\n",
       "       [  0,   0,   0,   0,   0,   0,   0,   0,   0,   0,   1,   0,   1,\n",
       "          0,   0,   1, 287,   1,   1],\n",
       "       [  0,   0,   0,   0,   0,   0,   0,   0,   1,   0,   0,   1,   0,\n",
       "          4,   1,   0,   1, 182,   0],\n",
       "       [  0,   0,   0,   0,   0,   0,   0,   0,   0,   0,   0,   0,   0,\n",
       "          0,   1,   0,   0,   0,  74]], dtype=int64)"
      ]
     },
     "execution_count": 26,
     "metadata": {},
     "output_type": "execute_result"
    }
   ],
   "source": [
    "confusion_matrix = confusion_matrix(val_y,predictions)\n",
    "confusion_matrix"
   ]
  },
  {
   "cell_type": "code",
   "execution_count": 27,
   "id": "8ceea170",
   "metadata": {},
   "outputs": [
    {
     "name": "stdout",
     "output_type": "stream",
     "text": [
      "sum_preds               : 10000\n",
      "sum_correct_predictions : 9863\n",
      "sum_wrong_predictions   : 137\n",
      "misclassification_error : 0.013700000000000045\n"
     ]
    }
   ],
   "source": [
    "#Prediction Statistics on Validaton Set\n",
    "\n",
    "sum_preds = np.sum(confusion_matrix)\n",
    "sum_correct = np.sum(np.diag(confusion_matrix))\n",
    "misclassification_error = 1.0 - (float(sum_correct) / float(sum_preds))\n",
    "    \n",
    "print(\"sum_preds               :\", int(sum_preds)) \n",
    "print(\"sum_correct_predictions :\", int(sum_correct)) \n",
    "print(\"sum_wrong_predictions   :\", int(sum_preds - sum_correct))\n",
    "print(\"misclassification_error :\", misclassification_error)"
   ]
  },
  {
   "cell_type": "code",
   "execution_count": 28,
   "id": "b7bb4f94",
   "metadata": {},
   "outputs": [
    {
     "data": {
      "text/plain": [
       "<matplotlib.image.AxesImage at 0x13aa22c9af0>"
      ]
     },
     "execution_count": 28,
     "metadata": {},
     "output_type": "execute_result"
    },
    {
     "data": {
      "image/png": "[encoded data removed]",
      "text/plain": [
       "<Figure size 432x288 with 1 Axes>"
      ]
     },
     "metadata": {
      "needs_background": "light"
     },
     "output_type": "display_data"
    }
   ],
   "source": [
    "my_number = X_val[999]\n",
    "plt.imshow(my_number)"
   ]
  },
  {
   "cell_type": "code",
   "execution_count": 29,
   "id": "494530f7",
   "metadata": {},
   "outputs": [
    {
     "name": "stdout",
     "output_type": "stream",
     "text": [
      "1/1 [==============================] - 0s 31ms/step\n",
      "[11]\n"
     ]
    }
   ],
   "source": [
    "# SHAPE --> (num_images,width,height,color_channels)\n",
    "#model.predict_classes(my_number.reshape(1,28,56,1))\n",
    "\n",
    "predict_x=model.predict(my_number.reshape(1,28,56,1)) \n",
    "classes_x=np.argmax(predict_x,axis=1)\n",
    "print(classes_x)"
   ]
  },
  {
   "cell_type": "code",
   "execution_count": 30,
   "id": "e091eb5c",
   "metadata": {},
   "outputs": [
    {
     "name": "stdout",
     "output_type": "stream",
     "text": [
      "\n",
      "\n",
      "Test Predictions\n",
      "313/313 [==============================] - 9s 28ms/step\n",
      "[14  7 10 ... 10  4  6]\n",
      "10000\n",
      "<class 'numpy.ndarray'>\n"
     ]
    },
    {
     "data": {
      "text/html": [
       "<div>\n",
       "<style scoped>\n",
       "    .dataframe tbody tr th:only-of-type {\n",
       "        vertical-align: middle;\n",
       "    }\n",
       "\n",
       "    .dataframe tbody tr th {\n",
       "        vertical-align: top;\n",
       "    }\n",
       "\n",
       "    .dataframe thead th {\n",
       "        text-align: right;\n",
       "    }\n",
       "</style>\n",
       "<table border=\"1\" class=\"dataframe\">\n",
       "  <thead>\n",
       "    <tr style=\"text-align: right;\">\n",
       "      <th></th>\n",
       "      <th>Class</th>\n",
       "    </tr>\n",
       "    <tr>\n",
       "      <th>Index</th>\n",
       "      <th></th>\n",
       "    </tr>\n",
       "  </thead>\n",
       "  <tbody>\n",
       "    <tr>\n",
       "      <th>0</th>\n",
       "      <td>14</td>\n",
       "    </tr>\n",
       "    <tr>\n",
       "      <th>1</th>\n",
       "      <td>7</td>\n",
       "    </tr>\n",
       "    <tr>\n",
       "      <th>2</th>\n",
       "      <td>10</td>\n",
       "    </tr>\n",
       "    <tr>\n",
       "      <th>3</th>\n",
       "      <td>7</td>\n",
       "    </tr>\n",
       "    <tr>\n",
       "      <th>4</th>\n",
       "      <td>5</td>\n",
       "    </tr>\n",
       "    <tr>\n",
       "      <th>...</th>\n",
       "      <td>...</td>\n",
       "    </tr>\n",
       "    <tr>\n",
       "      <th>9995</th>\n",
       "      <td>7</td>\n",
       "    </tr>\n",
       "    <tr>\n",
       "      <th>9996</th>\n",
       "      <td>12</td>\n",
       "    </tr>\n",
       "    <tr>\n",
       "      <th>9997</th>\n",
       "      <td>10</td>\n",
       "    </tr>\n",
       "    <tr>\n",
       "      <th>9998</th>\n",
       "      <td>4</td>\n",
       "    </tr>\n",
       "    <tr>\n",
       "      <th>9999</th>\n",
       "      <td>6</td>\n",
       "    </tr>\n",
       "  </tbody>\n",
       "</table>\n",
       "<p>10000 rows × 1 columns</p>\n",
       "</div>"
      ],
      "text/plain": [
       "       Class\n",
       "Index       \n",
       "0         14\n",
       "1          7\n",
       "2         10\n",
       "3          7\n",
       "4          5\n",
       "...      ...\n",
       "9995       7\n",
       "9996      12\n",
       "9997      10\n",
       "9998       4\n",
       "9999       6\n",
       "\n",
       "[10000 rows x 1 columns]"
      ]
     },
     "execution_count": 30,
     "metadata": {},
     "output_type": "execute_result"
    }
   ],
   "source": [
    "#Test predictions using the model\n",
    "print('\\n')\n",
    "print(\"Test Predictions\")\n",
    "test_predictions =  np.argmax(model.predict(X_test),axis=1)\n",
    "print(test_predictions)\n",
    "print(len(test_predictions))\n",
    "print(type(test_predictions))\n",
    "df = pd.DataFrame(test_predictions)\n",
    "df.index.name= 'Index'\n",
    "df.columns = ['Class']\n",
    "file_name = f'test_predictions_cnn_model6.csv'\n",
    "df.to_csv(file_name, index=True)\n",
    "df"
   ]
  },
  {
   "cell_type": "markdown",
   "id": "4b806e22",
   "metadata": {},
   "source": [
    "# ReTrain with Full DataSet"
   ]
  },
  {
   "cell_type": "code",
   "execution_count": 31,
   "id": "b50d27c6",
   "metadata": {},
   "outputs": [
    {
     "name": "stdout",
     "output_type": "stream",
     "text": [
      "(50000,)\n",
      "(50000, 1568)\n",
      "(10000, 1568)\n"
     ]
    }
   ],
   "source": [
    "train_X = pd.read_csv('train.csv')\n",
    "test_X = pd.read_csv('test.csv' )\n",
    "train_X.drop(train_X.columns[train_X.columns.str.contains('unnamed',case = False)],axis = 1, inplace = True)\n",
    "test_X.drop(test_X.columns[test_X.columns.str.contains('unnamed',case = False)],axis = 1, inplace = True)\n",
    "\n",
    "train_result = pd.read_csv('train_result.csv')\n",
    "train_y_class = train_result['Class']\n",
    "\n",
    "X_train = train_X.to_numpy()\n",
    "X_test = test_X.to_numpy()\n",
    "train_y = train_y_class.to_numpy()\n",
    "\n",
    "print(train_y.shape)\n",
    "print(X_train.shape)\n",
    "print(X_test.shape)"
   ]
  },
  {
   "cell_type": "code",
   "execution_count": 32,
   "id": "0d824b1e",
   "metadata": {},
   "outputs": [],
   "source": [
    "from tensorflow.keras.utils import to_categorical\n",
    "c = len(np.unique(train_y))\n",
    "y_train = to_categorical(train_y,c)"
   ]
  },
  {
   "cell_type": "code",
   "execution_count": 34,
   "id": "bceddef7",
   "metadata": {},
   "outputs": [
    {
     "name": "stdout",
     "output_type": "stream",
     "text": [
      "(50000, 28, 56, 1)\n",
      "(10000, 28, 56, 1)\n"
     ]
    }
   ],
   "source": [
    "X_train = X_train.reshape(50000, 28, 56, 1)\n",
    "X_test = X_test.reshape(10000, 28, 56, 1)\n",
    "print(X_train.shape)\n",
    "print(X_test.shape)"
   ]
  },
  {
   "cell_type": "code",
   "execution_count": 36,
   "id": "e18f415b",
   "metadata": {},
   "outputs": [
    {
     "name": "stdout",
     "output_type": "stream",
     "text": [
      "Model: \"sequential\"\n",
      "_________________________________________________________________\n",
      " Layer (type)                Output Shape              Param #   \n",
      "=================================================================\n",
      " conv2d (Conv2D)             (None, 26, 54, 64)        640       \n",
      "                                                                 \n",
      " conv2d_1 (Conv2D)           (None, 24, 52, 64)        36928     \n",
      "                                                                 \n",
      " max_pooling2d (MaxPooling2D  (None, 12, 26, 64)       0         \n",
      " )                                                               \n",
      "                                                                 \n",
      " batch_normalization (BatchN  (None, 12, 26, 64)       256       \n",
      " ormalization)                                                   \n",
      "                                                                 \n",
      " conv2d_2 (Conv2D)           (None, 10, 24, 128)       73856     \n",
      "                                                                 \n",
      " conv2d_3 (Conv2D)           (None, 8, 22, 128)        147584    \n",
      "                                                                 \n",
      " max_pooling2d_1 (MaxPooling  (None, 4, 11, 128)       0         \n",
      " 2D)                                                             \n",
      "                                                                 \n",
      " batch_normalization_1 (Batc  (None, 4, 11, 128)       512       \n",
      " hNormalization)                                                 \n",
      "                                                                 \n",
      " conv2d_4 (Conv2D)           (None, 2, 9, 256)         295168    \n",
      "                                                                 \n",
      " max_pooling2d_2 (MaxPooling  (None, 1, 4, 256)        0         \n",
      " 2D)                                                             \n",
      "                                                                 \n",
      " batch_normalization_2 (Batc  (None, 1, 4, 256)        1024      \n",
      " hNormalization)                                                 \n",
      "                                                                 \n",
      " flatten (Flatten)           (None, 1024)              0         \n",
      "                                                                 \n",
      " dense (Dense)               (None, 512)               524800    \n",
      "                                                                 \n",
      " dense_1 (Dense)             (None, 19)                9747      \n",
      "                                                                 \n",
      "=================================================================\n",
      "Total params: 1,090,515\n",
      "Trainable params: 1,089,619\n",
      "Non-trainable params: 896\n",
      "_________________________________________________________________\n"
     ]
    }
   ],
   "source": [
    "model.summary()"
   ]
  },
  {
   "cell_type": "code",
   "execution_count": 37,
   "id": "3bd38357",
   "metadata": {},
   "outputs": [
    {
     "name": "stdout",
     "output_type": "stream",
     "text": [
      "Epoch 1/100\n",
      "391/391 [==============================] - 222s 568ms/step - loss: 0.0254 - accuracy: 0.9936\n",
      "Epoch 2/100\n",
      "391/391 [==============================] - 231s 590ms/step - loss: 0.0041 - accuracy: 0.9987\n",
      "Epoch 3/100\n",
      "391/391 [==============================] - 222s 567ms/step - loss: 0.0108 - accuracy: 0.9968\n",
      "Epoch 4/100\n",
      "391/391 [==============================] - 219s 561ms/step - loss: 0.0069 - accuracy: 0.9980\n",
      "Epoch 5/100\n",
      "391/391 [==============================] - 211s 539ms/step - loss: 0.0079 - accuracy: 0.9976\n",
      "Epoch 6/100\n",
      "391/391 [==============================] - 210s 538ms/step - loss: 0.0041 - accuracy: 0.9989\n",
      "Epoch 7/100\n",
      "391/391 [==============================] - 212s 541ms/step - loss: 0.0088 - accuracy: 0.9978\n",
      "Epoch 8/100\n",
      "391/391 [==============================] - 223s 572ms/step - loss: 0.0081 - accuracy: 0.9978\n",
      "Epoch 9/100\n",
      "391/391 [==============================] - 216s 551ms/step - loss: 0.0051 - accuracy: 0.9985\n",
      "Epoch 10/100\n",
      "391/391 [==============================] - 217s 555ms/step - loss: 0.0063 - accuracy: 0.9985\n",
      "Epoch 11/100\n",
      "391/391 [==============================] - 213s 545ms/step - loss: 0.0073 - accuracy: 0.9981\n",
      "Epoch 12/100\n",
      "391/391 [==============================] - 217s 554ms/step - loss: 0.0066 - accuracy: 0.9982\n",
      "Epoch 13/100\n",
      "391/391 [==============================] - 209s 535ms/step - loss: 0.0061 - accuracy: 0.9985\n",
      "Epoch 14/100\n",
      "391/391 [==============================] - 214s 548ms/step - loss: 0.0029 - accuracy: 0.9993\n",
      "Epoch 15/100\n",
      "391/391 [==============================] - 224s 572ms/step - loss: 0.0052 - accuracy: 0.9988\n",
      "Epoch 16/100\n",
      "391/391 [==============================] - 207s 529ms/step - loss: 0.0082 - accuracy: 0.9980\n",
      "Epoch 17/100\n",
      "391/391 [==============================] - 207s 530ms/step - loss: 0.0050 - accuracy: 0.9987\n",
      "Epoch 18/100\n",
      "391/391 [==============================] - 218s 558ms/step - loss: 0.0015 - accuracy: 0.9995\n",
      "Epoch 19/100\n",
      "391/391 [==============================] - 213s 544ms/step - loss: 0.0053 - accuracy: 0.9987\n",
      "Epoch 20/100\n",
      "391/391 [==============================] - 220s 563ms/step - loss: 0.0072 - accuracy: 0.9983\n",
      "Epoch 21/100\n",
      "391/391 [==============================] - 229s 586ms/step - loss: 0.0054 - accuracy: 0.9985\n",
      "Epoch 22/100\n",
      "391/391 [==============================] - 224s 572ms/step - loss: 0.0051 - accuracy: 0.9987\n",
      "Epoch 23/100\n",
      "391/391 [==============================] - 221s 565ms/step - loss: 0.0026 - accuracy: 0.9992\n",
      "Epoch 24/100\n",
      "391/391 [==============================] - 211s 540ms/step - loss: 0.0042 - accuracy: 0.9990\n",
      "Epoch 25/100\n",
      "391/391 [==============================] - 215s 549ms/step - loss: 0.0035 - accuracy: 0.9989\n",
      "Epoch 26/100\n",
      "391/391 [==============================] - 244s 623ms/step - loss: 0.0041 - accuracy: 0.9991\n",
      "Epoch 27/100\n",
      "391/391 [==============================] - 249s 637ms/step - loss: 0.0080 - accuracy: 0.9983\n",
      "Epoch 28/100\n",
      "391/391 [==============================] - 250s 639ms/step - loss: 0.0041 - accuracy: 0.9989\n",
      "Epoch 29/100\n",
      "391/391 [==============================] - 241s 618ms/step - loss: 0.0029 - accuracy: 0.9992\n",
      "Epoch 30/100\n",
      "391/391 [==============================] - 215s 550ms/step - loss: 0.0038 - accuracy: 0.9990\n",
      "Epoch 31/100\n",
      "391/391 [==============================] - 236s 604ms/step - loss: 0.0040 - accuracy: 0.9991\n",
      "Epoch 32/100\n",
      "391/391 [==============================] - 212s 541ms/step - loss: 0.0046 - accuracy: 0.9989\n",
      "Epoch 33/100\n",
      "391/391 [==============================] - 214s 546ms/step - loss: 0.0038 - accuracy: 0.9989\n",
      "Epoch 34/100\n",
      "391/391 [==============================] - 212s 541ms/step - loss: 0.0047 - accuracy: 0.9987\n",
      "Epoch 35/100\n",
      "391/391 [==============================] - 212s 542ms/step - loss: 0.0041 - accuracy: 0.9989\n",
      "Epoch 36/100\n",
      "391/391 [==============================] - 216s 552ms/step - loss: 0.0052 - accuracy: 0.9988\n",
      "Epoch 37/100\n",
      "391/391 [==============================] - 221s 566ms/step - loss: 0.0026 - accuracy: 0.9993\n",
      "Epoch 38/100\n",
      "391/391 [==============================] - 223s 571ms/step - loss: 0.0031 - accuracy: 0.9993\n",
      "Epoch 39/100\n",
      "391/391 [==============================] - 226s 579ms/step - loss: 0.0035 - accuracy: 0.9991\n",
      "Epoch 40/100\n",
      "391/391 [==============================] - 219s 560ms/step - loss: 0.0017 - accuracy: 0.9994\n",
      "Epoch 41/100\n",
      "391/391 [==============================] - 216s 553ms/step - loss: 0.0012 - accuracy: 0.9997\n",
      "Epoch 42/100\n",
      "391/391 [==============================] - 221s 564ms/step - loss: 0.0022 - accuracy: 0.9995\n",
      "Epoch 43/100\n",
      "391/391 [==============================] - 227s 580ms/step - loss: 0.0036 - accuracy: 0.9991\n",
      "Epoch 44/100\n",
      "391/391 [==============================] - 217s 554ms/step - loss: 0.0050 - accuracy: 0.9987\n",
      "Epoch 45/100\n",
      "391/391 [==============================] - 216s 552ms/step - loss: 0.0049 - accuracy: 0.9989\n",
      "Epoch 46/100\n",
      "391/391 [==============================] - 217s 556ms/step - loss: 0.0037 - accuracy: 0.9992\n",
      "Epoch 47/100\n",
      "391/391 [==============================] - 225s 575ms/step - loss: 8.5323e-04 - accuracy: 0.9998\n",
      "Epoch 48/100\n",
      "391/391 [==============================] - 224s 572ms/step - loss: 3.5649e-04 - accuracy: 0.9999\n",
      "Epoch 49/100\n",
      "391/391 [==============================] - 215s 549ms/step - loss: 0.0022 - accuracy: 0.9994\n",
      "Epoch 50/100\n",
      "391/391 [==============================] - 219s 559ms/step - loss: 0.0082 - accuracy: 0.9984\n",
      "Epoch 51/100\n",
      "391/391 [==============================] - 227s 579ms/step - loss: 0.0038 - accuracy: 0.9990\n",
      "Epoch 52/100\n",
      "391/391 [==============================] - 214s 547ms/step - loss: 0.0031 - accuracy: 0.9995\n",
      "Epoch 53/100\n",
      "391/391 [==============================] - 224s 574ms/step - loss: 0.0048 - accuracy: 0.9990\n",
      "Epoch 54/100\n",
      "391/391 [==============================] - 207s 530ms/step - loss: 0.0025 - accuracy: 0.9994\n",
      "Epoch 55/100\n",
      "391/391 [==============================] - 206s 527ms/step - loss: 0.0055 - accuracy: 0.9989\n",
      "Epoch 56/100\n",
      "391/391 [==============================] - 206s 528ms/step - loss: 0.0049 - accuracy: 0.9991\n",
      "Epoch 57/100\n",
      "391/391 [==============================] - 204s 523ms/step - loss: 0.0022 - accuracy: 0.9994\n",
      "Epoch 58/100\n",
      "391/391 [==============================] - 204s 522ms/step - loss: 0.0017 - accuracy: 0.9995\n",
      "Epoch 59/100\n",
      "391/391 [==============================] - 212s 542ms/step - loss: 0.0012 - accuracy: 0.9997\n",
      "Epoch 60/100\n",
      "391/391 [==============================] - 203s 519ms/step - loss: 4.3347e-04 - accuracy: 0.9999\n",
      "Epoch 61/100\n",
      "391/391 [==============================] - 200s 511ms/step - loss: 0.0024 - accuracy: 0.9996\n",
      "Epoch 62/100\n",
      "391/391 [==============================] - 202s 516ms/step - loss: 0.0034 - accuracy: 0.9993\n",
      "Epoch 63/100\n",
      "391/391 [==============================] - 202s 516ms/step - loss: 0.0075 - accuracy: 0.9985\n",
      "Epoch 64/100\n",
      "391/391 [==============================] - 204s 521ms/step - loss: 0.0012 - accuracy: 0.9996\n",
      "Epoch 65/100\n",
      "391/391 [==============================] - 203s 519ms/step - loss: 0.0020 - accuracy: 0.9995\n",
      "Epoch 66/100\n",
      "391/391 [==============================] - 200s 512ms/step - loss: 0.0031 - accuracy: 0.9993\n",
      "Epoch 67/100\n",
      "391/391 [==============================] - 206s 526ms/step - loss: 0.0025 - accuracy: 0.9993\n",
      "Epoch 68/100\n",
      "391/391 [==============================] - 201s 515ms/step - loss: 0.0011 - accuracy: 0.9996\n",
      "Epoch 69/100\n",
      "391/391 [==============================] - 199s 510ms/step - loss: 0.0019 - accuracy: 0.9996\n",
      "Epoch 70/100\n",
      "391/391 [==============================] - 200s 512ms/step - loss: 0.0020 - accuracy: 0.9997\n",
      "Epoch 71/100\n",
      "391/391 [==============================] - 202s 517ms/step - loss: 9.6469e-04 - accuracy: 0.9997\n",
      "Epoch 72/100\n",
      "391/391 [==============================] - 199s 510ms/step - loss: 0.0029 - accuracy: 0.9994\n",
      "Epoch 73/100\n",
      "391/391 [==============================] - 200s 511ms/step - loss: 0.0053 - accuracy: 0.9991\n",
      "Epoch 74/100\n",
      "391/391 [==============================] - 201s 515ms/step - loss: 0.0037 - accuracy: 0.9991\n",
      "Epoch 75/100\n",
      "391/391 [==============================] - 200s 513ms/step - loss: 0.0014 - accuracy: 0.9997\n",
      "Epoch 76/100\n",
      "391/391 [==============================] - 202s 516ms/step - loss: 0.0036 - accuracy: 0.9994\n",
      "Epoch 77/100\n",
      "391/391 [==============================] - 202s 516ms/step - loss: 8.5984e-04 - accuracy: 0.9998\n",
      "Epoch 78/100\n",
      "391/391 [==============================] - 200s 512ms/step - loss: 2.3009e-04 - accuracy: 0.9999\n",
      "Epoch 79/100\n",
      "391/391 [==============================] - 200s 512ms/step - loss: 6.4688e-04 - accuracy: 0.9998\n",
      "Epoch 80/100\n",
      "391/391 [==============================] - 201s 515ms/step - loss: 0.0035 - accuracy: 0.9992\n",
      "Epoch 81/100\n",
      "391/391 [==============================] - 201s 514ms/step - loss: 0.0036 - accuracy: 0.9991\n",
      "Epoch 82/100\n",
      "391/391 [==============================] - 201s 514ms/step - loss: 8.7426e-04 - accuracy: 0.9997\n",
      "Epoch 83/100\n",
      "391/391 [==============================] - 207s 528ms/step - loss: 0.0023 - accuracy: 0.9994\n",
      "Epoch 84/100\n",
      "391/391 [==============================] - 200s 512ms/step - loss: 0.0022 - accuracy: 0.9996\n",
      "Epoch 85/100\n",
      "391/391 [==============================] - 202s 516ms/step - loss: 0.0025 - accuracy: 0.9995\n",
      "Epoch 86/100\n",
      "391/391 [==============================] - 200s 513ms/step - loss: 0.0035 - accuracy: 0.9993\n",
      "Epoch 87/100\n",
      "391/391 [==============================] - 200s 511ms/step - loss: 0.0018 - accuracy: 0.9996\n",
      "Epoch 88/100\n",
      "391/391 [==============================] - 200s 512ms/step - loss: 0.0017 - accuracy: 0.9996\n",
      "Epoch 89/100\n",
      "391/391 [==============================] - 202s 517ms/step - loss: 0.0018 - accuracy: 0.9997\n",
      "Epoch 90/100\n",
      "391/391 [==============================] - 200s 511ms/step - loss: 0.0014 - accuracy: 0.9996\n",
      "Epoch 91/100\n",
      "391/391 [==============================] - 200s 513ms/step - loss: 0.0043 - accuracy: 0.9992\n",
      "Epoch 92/100\n",
      "391/391 [==============================] - 200s 512ms/step - loss: 0.0022 - accuracy: 0.9995\n",
      "Epoch 93/100\n",
      "391/391 [==============================] - 200s 511ms/step - loss: 0.0012 - accuracy: 0.9998\n",
      "Epoch 94/100\n",
      "391/391 [==============================] - 203s 518ms/step - loss: 0.0013 - accuracy: 0.9997\n",
      "Epoch 95/100\n",
      "391/391 [==============================] - 201s 514ms/step - loss: 0.0029 - accuracy: 0.9993\n",
      "Epoch 96/100\n",
      "391/391 [==============================] - 200s 513ms/step - loss: 0.0023 - accuracy: 0.9996\n",
      "Epoch 97/100\n",
      "391/391 [==============================] - 201s 513ms/step - loss: 0.0018 - accuracy: 0.9995\n",
      "Epoch 98/100\n",
      "391/391 [==============================] - 201s 513ms/step - loss: 0.0015 - accuracy: 0.9996\n",
      "Epoch 99/100\n",
      "391/391 [==============================] - 202s 518ms/step - loss: 0.0010 - accuracy: 0.9997\n",
      "Epoch 100/100\n",
      "391/391 [==============================] - 202s 517ms/step - loss: 0.0041 - accuracy: 0.9992\n"
     ]
    },
    {
     "data": {
      "text/plain": [
       "<keras.callbacks.History at 0x13ac7e01340>"
      ]
     },
     "execution_count": 37,
     "metadata": {},
     "output_type": "execute_result"
    }
   ],
   "source": [
    "model.fit(X_train, y_train, batch_size=128, epochs=100 )"
   ]
  },
  {
   "cell_type": "code",
   "execution_count": 38,
   "id": "ae59d78b",
   "metadata": {},
   "outputs": [
    {
     "data": {
      "text/plain": [
       "<AxesSubplot:>"
      ]
     },
     "execution_count": 38,
     "metadata": {},
     "output_type": "execute_result"
    },
    {
     "data": {
      "image/png": "[encoded data removed]",
      "text/plain": [
       "<Figure size 432x288 with 1 Axes>"
      ]
     },
     "metadata": {
      "needs_background": "light"
     },
     "output_type": "display_data"
    }
   ],
   "source": [
    "model_loss = pd.DataFrame(model.history.history)\n",
    "model_loss.plot()"
   ]
  },
  {
   "cell_type": "code",
   "execution_count": 39,
   "id": "0ebf4480",
   "metadata": {},
   "outputs": [
    {
     "name": "stdout",
     "output_type": "stream",
     "text": [
      "\n",
      "\n",
      "Test Predictions\n",
      "313/313 [==============================] - 9s 29ms/step\n",
      "[14  7 10 ... 10  4  6]\n",
      "10000\n",
      "<class 'numpy.ndarray'>\n"
     ]
    },
    {
     "data": {
      "text/html": [
       "<div>\n",
       "<style scoped>\n",
       "    .dataframe tbody tr th:only-of-type {\n",
       "        vertical-align: middle;\n",
       "    }\n",
       "\n",
       "    .dataframe tbody tr th {\n",
       "        vertical-align: top;\n",
       "    }\n",
       "\n",
       "    .dataframe thead th {\n",
       "        text-align: right;\n",
       "    }\n",
       "</style>\n",
       "<table border=\"1\" class=\"dataframe\">\n",
       "  <thead>\n",
       "    <tr style=\"text-align: right;\">\n",
       "      <th></th>\n",
       "      <th>Class</th>\n",
       "    </tr>\n",
       "    <tr>\n",
       "      <th>Index</th>\n",
       "      <th></th>\n",
       "    </tr>\n",
       "  </thead>\n",
       "  <tbody>\n",
       "    <tr>\n",
       "      <th>0</th>\n",
       "      <td>14</td>\n",
       "    </tr>\n",
       "    <tr>\n",
       "      <th>1</th>\n",
       "      <td>7</td>\n",
       "    </tr>\n",
       "    <tr>\n",
       "      <th>2</th>\n",
       "      <td>10</td>\n",
       "    </tr>\n",
       "    <tr>\n",
       "      <th>3</th>\n",
       "      <td>7</td>\n",
       "    </tr>\n",
       "    <tr>\n",
       "      <th>4</th>\n",
       "      <td>5</td>\n",
       "    </tr>\n",
       "    <tr>\n",
       "      <th>...</th>\n",
       "      <td>...</td>\n",
       "    </tr>\n",
       "    <tr>\n",
       "      <th>9995</th>\n",
       "      <td>7</td>\n",
       "    </tr>\n",
       "    <tr>\n",
       "      <th>9996</th>\n",
       "      <td>12</td>\n",
       "    </tr>\n",
       "    <tr>\n",
       "      <th>9997</th>\n",
       "      <td>10</td>\n",
       "    </tr>\n",
       "    <tr>\n",
       "      <th>9998</th>\n",
       "      <td>4</td>\n",
       "    </tr>\n",
       "    <tr>\n",
       "      <th>9999</th>\n",
       "      <td>6</td>\n",
       "    </tr>\n",
       "  </tbody>\n",
       "</table>\n",
       "<p>10000 rows × 1 columns</p>\n",
       "</div>"
      ],
      "text/plain": [
       "       Class\n",
       "Index       \n",
       "0         14\n",
       "1          7\n",
       "2         10\n",
       "3          7\n",
       "4          5\n",
       "...      ...\n",
       "9995       7\n",
       "9996      12\n",
       "9997      10\n",
       "9998       4\n",
       "9999       6\n",
       "\n",
       "[10000 rows x 1 columns]"
      ]
     },
     "execution_count": 39,
     "metadata": {},
     "output_type": "execute_result"
    }
   ],
   "source": [
    "print('\\n')\n",
    "print(\"Test Predictions\")\n",
    "test_predictions =  np.argmax(model.predict(X_test),axis=1)\n",
    "print(test_predictions)\n",
    "print(len(test_predictions))\n",
    "print(type(test_predictions))\n",
    "df = pd.DataFrame(test_predictions)\n",
    "df.index.name= 'Index'\n",
    "df.columns = ['Class']\n",
    "file_name = f'test_predictions_cnn_model7_fullDataset.csv'\n",
    "df.to_csv(file_name, index=True)\n",
    "df"
   ]
  },
  {
   "cell_type": "code",
   "execution_count": null,
   "id": "803f5ade",
   "metadata": {},
   "outputs": [],
   "source": []
  }
 ],
 "metadata": {
  "kernelspec": {
   "display_name": "Python 3 (ipykernel)",
   "language": "python",
   "name": "python3"
  },
  "language_info": {
   "codemirror_mode": {
    "name": "ipython",
    "version": 3
   },
   "file_extension": ".py",
   "mimetype": "text/x-python",
   "name": "python",
   "nbconvert_exporter": "python",
   "pygments_lexer": "ipython3",
   "version": "3.9.12"
  }
 },
 "nbformat": 4,
 "nbformat_minor": 5
}
